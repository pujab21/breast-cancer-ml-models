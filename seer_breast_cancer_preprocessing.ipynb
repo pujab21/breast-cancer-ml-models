{
  "cells": [
    {
      "cell_type": "markdown",
      "metadata": {
        "id": "view-in-github",
        "colab_type": "text"
      },
      "source": [
        "<a href=\"https://colab.research.google.com/github/pujab21/breast-cancer-ml-models/blob/main/seer_breast_cancer_preprocessing.ipynb\" target=\"_parent\"><img src=\"https://colab.research.google.com/assets/colab-badge.svg\" alt=\"Open In Colab\"/></a>"
      ]
    },
    {
      "cell_type": "code",
      "execution_count": null,
      "metadata": {
        "id": "nXw2blBHpc6z"
      },
      "outputs": [],
      "source": [
        "import numpy as np\n",
        "import pandas as pd\n",
        "import matplotlib.pyplot as plt\n",
        "import seaborn as sns"
      ]
    },
    {
      "cell_type": "markdown",
      "metadata": {
        "id": "z8RHheNjew7U"
      },
      "source": [
        "##Dataset initialization\n"
      ]
    },
    {
      "cell_type": "markdown",
      "source": [],
      "metadata": {
        "id": "Psxwc6PptL8A"
      }
    },
    {
      "cell_type": "code",
      "execution_count": null,
      "metadata": {
        "id": "zrZIYnnEpkcL",
        "colab": {
          "base_uri": "https://localhost:8080/",
          "height": 1000
        },
        "outputId": "162e97e5-af68-4b78-edfe-16ff6adba083",
        "collapsed": true
      },
      "outputs": [
        {
          "output_type": "execute_result",
          "data": {
            "text/plain": [
              "               Age     Sex                 Race/ethnicity  Year of diagnosis  \\\n",
              "0      15-19 years  Female                          White               2018   \n",
              "1      15-19 years  Female                          White               2019   \n",
              "2      15-19 years  Female  American Indian/Alaska Native               2018   \n",
              "3      20-24 years  Female                          Other               2018   \n",
              "4      20-24 years  Female                          White               2018   \n",
              "...            ...     ...                            ...                ...   \n",
              "88241    85+ years  Female                          White               2020   \n",
              "88242    85+ years  Female                          White               2021   \n",
              "88243    85+ years  Female                          White               2019   \n",
              "88244    85+ years  Female                          White               2021   \n",
              "88245    85+ years  Female                          White               2020   \n",
              "\n",
              "      Behavior code ICD-O-3 Behavior recode for analysis Chemotherapy recode  \\\n",
              "0                 Malignant                    Malignant                 Yes   \n",
              "1                 Malignant                    Malignant                 Yes   \n",
              "2                 Malignant                    Malignant                 Yes   \n",
              "3                 Malignant                    Malignant                 Yes   \n",
              "4                 Malignant                    Malignant                 Yes   \n",
              "...                     ...                          ...                 ...   \n",
              "88241             Malignant                    Malignant          No/Unknown   \n",
              "88242             Malignant                    Malignant          No/Unknown   \n",
              "88243             Malignant                    Malignant          No/Unknown   \n",
              "88244             Malignant                    Malignant          No/Unknown   \n",
              "88245             Malignant                    Malignant          No/Unknown   \n",
              "\n",
              "      ER Status Derived Summary Grade Grade Clinical  ...  \\\n",
              "0      Negative                     3              2  ...   \n",
              "1      Positive                     3              3  ...   \n",
              "2      Positive                     9              9  ...   \n",
              "3      Negative                     3              3  ...   \n",
              "4      Positive                     3              3  ...   \n",
              "...         ...                   ...            ...  ...   \n",
              "88241  Positive                     1              1  ...   \n",
              "88242  Negative                     2              2  ...   \n",
              "88243  Positive                     1              1  ...   \n",
              "88244  Positive                     2              2  ...   \n",
              "88245  Positive                     1              1  ...   \n",
              "\n",
              "                       Marital status Median household income  \\\n",
              "0      Married (including common law)     $110,000 - $119,999   \n",
              "1              Single (never married)               $120,000+   \n",
              "2              Single (never married)       $50,000 - $54,999   \n",
              "3                             Unknown       $70,000 - $74,999   \n",
              "4              Single (never married)       $60,000 - $64,999   \n",
              "...                               ...                     ...   \n",
              "88241                         Widowed       $90,000 - $94,999   \n",
              "88242                        Divorced       $80,000 - $84,999   \n",
              "88243  Married (including common law)       $60,000 - $64,999   \n",
              "88244                         Widowed       $90,000 - $94,999   \n",
              "88245  Married (including common law)       $90,000 - $94,999   \n",
              "\n",
              "       Regional nodes positive PR Status Primary Site       Radiation  \\\n",
              "0                           01  Negative          504  Beam radiation   \n",
              "1                           00  Positive          508    None/Unknown   \n",
              "2                           02  Positive          504    None/Unknown   \n",
              "3                           00  Negative          504  Beam radiation   \n",
              "4                           07  Positive          505  Beam radiation   \n",
              "...                        ...       ...          ...             ...   \n",
              "88241                       95  Positive          505    None/Unknown   \n",
              "88242                       01  Negative          504    None/Unknown   \n",
              "88243                       00  Positive          504  Beam radiation   \n",
              "88244                       98  Positive          505    None/Unknown   \n",
              "88245                       98  Positive          501    None/Unknown   \n",
              "\n",
              "      Regional nodes examined Survival months  \\\n",
              "0                          03            0043   \n",
              "1                          04            0026   \n",
              "2                          10            0042   \n",
              "3                          05            0046   \n",
              "4                          11            0045   \n",
              "...                       ...             ...   \n",
              "88241                      95            0018   \n",
              "88242                      01            0011   \n",
              "88243                      05            0035   \n",
              "88244                      00            0003   \n",
              "88245                      00            0018   \n",
              "\n",
              "                                    Survival months flag  Tumor Size Summary  \n",
              "0      Complete dates are available and there are mor...                 020  \n",
              "1      Complete dates are available and there are mor...                 015  \n",
              "2      Complete dates are available and there are mor...                 999  \n",
              "3      Complete dates are available and there are mor...                 057  \n",
              "4      Complete dates are available and there are mor...                 100  \n",
              "...                                                  ...                 ...  \n",
              "88241  Complete dates are available and there are mor...                 015  \n",
              "88242  Complete dates are available and there are mor...                 025  \n",
              "88243  Complete dates are available and there are mor...                 011  \n",
              "88244  Complete dates are available and there are mor...                 037  \n",
              "88245  Complete dates are available and there are mor...                 011  \n",
              "\n",
              "[88246 rows x 25 columns]"
            ],
            "text/html": [
              "\n",
              "  <div id=\"df-ec837fc7-372d-4fb3-8578-164429322913\" class=\"colab-df-container\">\n",
              "    <div>\n",
              "<style scoped>\n",
              "    .dataframe tbody tr th:only-of-type {\n",
              "        vertical-align: middle;\n",
              "    }\n",
              "\n",
              "    .dataframe tbody tr th {\n",
              "        vertical-align: top;\n",
              "    }\n",
              "\n",
              "    .dataframe thead th {\n",
              "        text-align: right;\n",
              "    }\n",
              "</style>\n",
              "<table border=\"1\" class=\"dataframe\">\n",
              "  <thead>\n",
              "    <tr style=\"text-align: right;\">\n",
              "      <th></th>\n",
              "      <th>Age</th>\n",
              "      <th>Sex</th>\n",
              "      <th>Race/ethnicity</th>\n",
              "      <th>Year of diagnosis</th>\n",
              "      <th>Behavior code ICD-O-3</th>\n",
              "      <th>Behavior recode for analysis</th>\n",
              "      <th>Chemotherapy recode</th>\n",
              "      <th>ER Status</th>\n",
              "      <th>Derived Summary Grade</th>\n",
              "      <th>Grade Clinical</th>\n",
              "      <th>...</th>\n",
              "      <th>Marital status</th>\n",
              "      <th>Median household income</th>\n",
              "      <th>Regional nodes positive</th>\n",
              "      <th>PR Status</th>\n",
              "      <th>Primary Site</th>\n",
              "      <th>Radiation</th>\n",
              "      <th>Regional nodes examined</th>\n",
              "      <th>Survival months</th>\n",
              "      <th>Survival months flag</th>\n",
              "      <th>Tumor Size Summary</th>\n",
              "    </tr>\n",
              "  </thead>\n",
              "  <tbody>\n",
              "    <tr>\n",
              "      <th>0</th>\n",
              "      <td>15-19 years</td>\n",
              "      <td>Female</td>\n",
              "      <td>White</td>\n",
              "      <td>2018</td>\n",
              "      <td>Malignant</td>\n",
              "      <td>Malignant</td>\n",
              "      <td>Yes</td>\n",
              "      <td>Negative</td>\n",
              "      <td>3</td>\n",
              "      <td>2</td>\n",
              "      <td>...</td>\n",
              "      <td>Married (including common law)</td>\n",
              "      <td>$110,000 - $119,999</td>\n",
              "      <td>01</td>\n",
              "      <td>Negative</td>\n",
              "      <td>504</td>\n",
              "      <td>Beam radiation</td>\n",
              "      <td>03</td>\n",
              "      <td>0043</td>\n",
              "      <td>Complete dates are available and there are mor...</td>\n",
              "      <td>020</td>\n",
              "    </tr>\n",
              "    <tr>\n",
              "      <th>1</th>\n",
              "      <td>15-19 years</td>\n",
              "      <td>Female</td>\n",
              "      <td>White</td>\n",
              "      <td>2019</td>\n",
              "      <td>Malignant</td>\n",
              "      <td>Malignant</td>\n",
              "      <td>Yes</td>\n",
              "      <td>Positive</td>\n",
              "      <td>3</td>\n",
              "      <td>3</td>\n",
              "      <td>...</td>\n",
              "      <td>Single (never married)</td>\n",
              "      <td>$120,000+</td>\n",
              "      <td>00</td>\n",
              "      <td>Positive</td>\n",
              "      <td>508</td>\n",
              "      <td>None/Unknown</td>\n",
              "      <td>04</td>\n",
              "      <td>0026</td>\n",
              "      <td>Complete dates are available and there are mor...</td>\n",
              "      <td>015</td>\n",
              "    </tr>\n",
              "    <tr>\n",
              "      <th>2</th>\n",
              "      <td>15-19 years</td>\n",
              "      <td>Female</td>\n",
              "      <td>American Indian/Alaska Native</td>\n",
              "      <td>2018</td>\n",
              "      <td>Malignant</td>\n",
              "      <td>Malignant</td>\n",
              "      <td>Yes</td>\n",
              "      <td>Positive</td>\n",
              "      <td>9</td>\n",
              "      <td>9</td>\n",
              "      <td>...</td>\n",
              "      <td>Single (never married)</td>\n",
              "      <td>$50,000 - $54,999</td>\n",
              "      <td>02</td>\n",
              "      <td>Positive</td>\n",
              "      <td>504</td>\n",
              "      <td>None/Unknown</td>\n",
              "      <td>10</td>\n",
              "      <td>0042</td>\n",
              "      <td>Complete dates are available and there are mor...</td>\n",
              "      <td>999</td>\n",
              "    </tr>\n",
              "    <tr>\n",
              "      <th>3</th>\n",
              "      <td>20-24 years</td>\n",
              "      <td>Female</td>\n",
              "      <td>Other</td>\n",
              "      <td>2018</td>\n",
              "      <td>Malignant</td>\n",
              "      <td>Malignant</td>\n",
              "      <td>Yes</td>\n",
              "      <td>Negative</td>\n",
              "      <td>3</td>\n",
              "      <td>3</td>\n",
              "      <td>...</td>\n",
              "      <td>Unknown</td>\n",
              "      <td>$70,000 - $74,999</td>\n",
              "      <td>00</td>\n",
              "      <td>Negative</td>\n",
              "      <td>504</td>\n",
              "      <td>Beam radiation</td>\n",
              "      <td>05</td>\n",
              "      <td>0046</td>\n",
              "      <td>Complete dates are available and there are mor...</td>\n",
              "      <td>057</td>\n",
              "    </tr>\n",
              "    <tr>\n",
              "      <th>4</th>\n",
              "      <td>20-24 years</td>\n",
              "      <td>Female</td>\n",
              "      <td>White</td>\n",
              "      <td>2018</td>\n",
              "      <td>Malignant</td>\n",
              "      <td>Malignant</td>\n",
              "      <td>Yes</td>\n",
              "      <td>Positive</td>\n",
              "      <td>3</td>\n",
              "      <td>3</td>\n",
              "      <td>...</td>\n",
              "      <td>Single (never married)</td>\n",
              "      <td>$60,000 - $64,999</td>\n",
              "      <td>07</td>\n",
              "      <td>Positive</td>\n",
              "      <td>505</td>\n",
              "      <td>Beam radiation</td>\n",
              "      <td>11</td>\n",
              "      <td>0045</td>\n",
              "      <td>Complete dates are available and there are mor...</td>\n",
              "      <td>100</td>\n",
              "    </tr>\n",
              "    <tr>\n",
              "      <th>...</th>\n",
              "      <td>...</td>\n",
              "      <td>...</td>\n",
              "      <td>...</td>\n",
              "      <td>...</td>\n",
              "      <td>...</td>\n",
              "      <td>...</td>\n",
              "      <td>...</td>\n",
              "      <td>...</td>\n",
              "      <td>...</td>\n",
              "      <td>...</td>\n",
              "      <td>...</td>\n",
              "      <td>...</td>\n",
              "      <td>...</td>\n",
              "      <td>...</td>\n",
              "      <td>...</td>\n",
              "      <td>...</td>\n",
              "      <td>...</td>\n",
              "      <td>...</td>\n",
              "      <td>...</td>\n",
              "      <td>...</td>\n",
              "      <td>...</td>\n",
              "    </tr>\n",
              "    <tr>\n",
              "      <th>88241</th>\n",
              "      <td>85+ years</td>\n",
              "      <td>Female</td>\n",
              "      <td>White</td>\n",
              "      <td>2020</td>\n",
              "      <td>Malignant</td>\n",
              "      <td>Malignant</td>\n",
              "      <td>No/Unknown</td>\n",
              "      <td>Positive</td>\n",
              "      <td>1</td>\n",
              "      <td>1</td>\n",
              "      <td>...</td>\n",
              "      <td>Widowed</td>\n",
              "      <td>$90,000 - $94,999</td>\n",
              "      <td>95</td>\n",
              "      <td>Positive</td>\n",
              "      <td>505</td>\n",
              "      <td>None/Unknown</td>\n",
              "      <td>95</td>\n",
              "      <td>0018</td>\n",
              "      <td>Complete dates are available and there are mor...</td>\n",
              "      <td>015</td>\n",
              "    </tr>\n",
              "    <tr>\n",
              "      <th>88242</th>\n",
              "      <td>85+ years</td>\n",
              "      <td>Female</td>\n",
              "      <td>White</td>\n",
              "      <td>2021</td>\n",
              "      <td>Malignant</td>\n",
              "      <td>Malignant</td>\n",
              "      <td>No/Unknown</td>\n",
              "      <td>Negative</td>\n",
              "      <td>2</td>\n",
              "      <td>2</td>\n",
              "      <td>...</td>\n",
              "      <td>Divorced</td>\n",
              "      <td>$80,000 - $84,999</td>\n",
              "      <td>01</td>\n",
              "      <td>Negative</td>\n",
              "      <td>504</td>\n",
              "      <td>None/Unknown</td>\n",
              "      <td>01</td>\n",
              "      <td>0011</td>\n",
              "      <td>Complete dates are available and there are mor...</td>\n",
              "      <td>025</td>\n",
              "    </tr>\n",
              "    <tr>\n",
              "      <th>88243</th>\n",
              "      <td>85+ years</td>\n",
              "      <td>Female</td>\n",
              "      <td>White</td>\n",
              "      <td>2019</td>\n",
              "      <td>Malignant</td>\n",
              "      <td>Malignant</td>\n",
              "      <td>No/Unknown</td>\n",
              "      <td>Positive</td>\n",
              "      <td>1</td>\n",
              "      <td>1</td>\n",
              "      <td>...</td>\n",
              "      <td>Married (including common law)</td>\n",
              "      <td>$60,000 - $64,999</td>\n",
              "      <td>00</td>\n",
              "      <td>Positive</td>\n",
              "      <td>504</td>\n",
              "      <td>Beam radiation</td>\n",
              "      <td>05</td>\n",
              "      <td>0035</td>\n",
              "      <td>Complete dates are available and there are mor...</td>\n",
              "      <td>011</td>\n",
              "    </tr>\n",
              "    <tr>\n",
              "      <th>88244</th>\n",
              "      <td>85+ years</td>\n",
              "      <td>Female</td>\n",
              "      <td>White</td>\n",
              "      <td>2021</td>\n",
              "      <td>Malignant</td>\n",
              "      <td>Malignant</td>\n",
              "      <td>No/Unknown</td>\n",
              "      <td>Positive</td>\n",
              "      <td>2</td>\n",
              "      <td>2</td>\n",
              "      <td>...</td>\n",
              "      <td>Widowed</td>\n",
              "      <td>$90,000 - $94,999</td>\n",
              "      <td>98</td>\n",
              "      <td>Positive</td>\n",
              "      <td>505</td>\n",
              "      <td>None/Unknown</td>\n",
              "      <td>00</td>\n",
              "      <td>0003</td>\n",
              "      <td>Complete dates are available and there are mor...</td>\n",
              "      <td>037</td>\n",
              "    </tr>\n",
              "    <tr>\n",
              "      <th>88245</th>\n",
              "      <td>85+ years</td>\n",
              "      <td>Female</td>\n",
              "      <td>White</td>\n",
              "      <td>2020</td>\n",
              "      <td>Malignant</td>\n",
              "      <td>Malignant</td>\n",
              "      <td>No/Unknown</td>\n",
              "      <td>Positive</td>\n",
              "      <td>1</td>\n",
              "      <td>1</td>\n",
              "      <td>...</td>\n",
              "      <td>Married (including common law)</td>\n",
              "      <td>$90,000 - $94,999</td>\n",
              "      <td>98</td>\n",
              "      <td>Positive</td>\n",
              "      <td>501</td>\n",
              "      <td>None/Unknown</td>\n",
              "      <td>00</td>\n",
              "      <td>0018</td>\n",
              "      <td>Complete dates are available and there are mor...</td>\n",
              "      <td>011</td>\n",
              "    </tr>\n",
              "  </tbody>\n",
              "</table>\n",
              "<p>88246 rows × 25 columns</p>\n",
              "</div>\n",
              "    <div class=\"colab-df-buttons\">\n",
              "\n",
              "  <div class=\"colab-df-container\">\n",
              "    <button class=\"colab-df-convert\" onclick=\"convertToInteractive('df-ec837fc7-372d-4fb3-8578-164429322913')\"\n",
              "            title=\"Convert this dataframe to an interactive table.\"\n",
              "            style=\"display:none;\">\n",
              "\n",
              "  <svg xmlns=\"http://www.w3.org/2000/svg\" height=\"24px\" viewBox=\"0 -960 960 960\">\n",
              "    <path d=\"M120-120v-720h720v720H120Zm60-500h600v-160H180v160Zm220 220h160v-160H400v160Zm0 220h160v-160H400v160ZM180-400h160v-160H180v160Zm440 0h160v-160H620v160ZM180-180h160v-160H180v160Zm440 0h160v-160H620v160Z\"/>\n",
              "  </svg>\n",
              "    </button>\n",
              "\n",
              "  <style>\n",
              "    .colab-df-container {\n",
              "      display:flex;\n",
              "      gap: 12px;\n",
              "    }\n",
              "\n",
              "    .colab-df-convert {\n",
              "      background-color: #E8F0FE;\n",
              "      border: none;\n",
              "      border-radius: 50%;\n",
              "      cursor: pointer;\n",
              "      display: none;\n",
              "      fill: #1967D2;\n",
              "      height: 32px;\n",
              "      padding: 0 0 0 0;\n",
              "      width: 32px;\n",
              "    }\n",
              "\n",
              "    .colab-df-convert:hover {\n",
              "      background-color: #E2EBFA;\n",
              "      box-shadow: 0px 1px 2px rgba(60, 64, 67, 0.3), 0px 1px 3px 1px rgba(60, 64, 67, 0.15);\n",
              "      fill: #174EA6;\n",
              "    }\n",
              "\n",
              "    .colab-df-buttons div {\n",
              "      margin-bottom: 4px;\n",
              "    }\n",
              "\n",
              "    [theme=dark] .colab-df-convert {\n",
              "      background-color: #3B4455;\n",
              "      fill: #D2E3FC;\n",
              "    }\n",
              "\n",
              "    [theme=dark] .colab-df-convert:hover {\n",
              "      background-color: #434B5C;\n",
              "      box-shadow: 0px 1px 3px 1px rgba(0, 0, 0, 0.15);\n",
              "      filter: drop-shadow(0px 1px 2px rgba(0, 0, 0, 0.3));\n",
              "      fill: #FFFFFF;\n",
              "    }\n",
              "  </style>\n",
              "\n",
              "    <script>\n",
              "      const buttonEl =\n",
              "        document.querySelector('#df-ec837fc7-372d-4fb3-8578-164429322913 button.colab-df-convert');\n",
              "      buttonEl.style.display =\n",
              "        google.colab.kernel.accessAllowed ? 'block' : 'none';\n",
              "\n",
              "      async function convertToInteractive(key) {\n",
              "        const element = document.querySelector('#df-ec837fc7-372d-4fb3-8578-164429322913');\n",
              "        const dataTable =\n",
              "          await google.colab.kernel.invokeFunction('convertToInteractive',\n",
              "                                                    [key], {});\n",
              "        if (!dataTable) return;\n",
              "\n",
              "        const docLinkHtml = 'Like what you see? Visit the ' +\n",
              "          '<a target=\"_blank\" href=https://colab.research.google.com/notebooks/data_table.ipynb>data table notebook</a>'\n",
              "          + ' to learn more about interactive tables.';\n",
              "        element.innerHTML = '';\n",
              "        dataTable['output_type'] = 'display_data';\n",
              "        await google.colab.output.renderOutput(dataTable, element);\n",
              "        const docLink = document.createElement('div');\n",
              "        docLink.innerHTML = docLinkHtml;\n",
              "        element.appendChild(docLink);\n",
              "      }\n",
              "    </script>\n",
              "  </div>\n",
              "\n",
              "\n",
              "    <div id=\"df-49580e3d-bb49-4d7e-bd48-21ee4619ca92\">\n",
              "      <button class=\"colab-df-quickchart\" onclick=\"quickchart('df-49580e3d-bb49-4d7e-bd48-21ee4619ca92')\"\n",
              "                title=\"Suggest charts\"\n",
              "                style=\"display:none;\">\n",
              "\n",
              "<svg xmlns=\"http://www.w3.org/2000/svg\" height=\"24px\"viewBox=\"0 0 24 24\"\n",
              "     width=\"24px\">\n",
              "    <g>\n",
              "        <path d=\"M19 3H5c-1.1 0-2 .9-2 2v14c0 1.1.9 2 2 2h14c1.1 0 2-.9 2-2V5c0-1.1-.9-2-2-2zM9 17H7v-7h2v7zm4 0h-2V7h2v10zm4 0h-2v-4h2v4z\"/>\n",
              "    </g>\n",
              "</svg>\n",
              "      </button>\n",
              "\n",
              "<style>\n",
              "  .colab-df-quickchart {\n",
              "      --bg-color: #E8F0FE;\n",
              "      --fill-color: #1967D2;\n",
              "      --hover-bg-color: #E2EBFA;\n",
              "      --hover-fill-color: #174EA6;\n",
              "      --disabled-fill-color: #AAA;\n",
              "      --disabled-bg-color: #DDD;\n",
              "  }\n",
              "\n",
              "  [theme=dark] .colab-df-quickchart {\n",
              "      --bg-color: #3B4455;\n",
              "      --fill-color: #D2E3FC;\n",
              "      --hover-bg-color: #434B5C;\n",
              "      --hover-fill-color: #FFFFFF;\n",
              "      --disabled-bg-color: #3B4455;\n",
              "      --disabled-fill-color: #666;\n",
              "  }\n",
              "\n",
              "  .colab-df-quickchart {\n",
              "    background-color: var(--bg-color);\n",
              "    border: none;\n",
              "    border-radius: 50%;\n",
              "    cursor: pointer;\n",
              "    display: none;\n",
              "    fill: var(--fill-color);\n",
              "    height: 32px;\n",
              "    padding: 0;\n",
              "    width: 32px;\n",
              "  }\n",
              "\n",
              "  .colab-df-quickchart:hover {\n",
              "    background-color: var(--hover-bg-color);\n",
              "    box-shadow: 0 1px 2px rgba(60, 64, 67, 0.3), 0 1px 3px 1px rgba(60, 64, 67, 0.15);\n",
              "    fill: var(--button-hover-fill-color);\n",
              "  }\n",
              "\n",
              "  .colab-df-quickchart-complete:disabled,\n",
              "  .colab-df-quickchart-complete:disabled:hover {\n",
              "    background-color: var(--disabled-bg-color);\n",
              "    fill: var(--disabled-fill-color);\n",
              "    box-shadow: none;\n",
              "  }\n",
              "\n",
              "  .colab-df-spinner {\n",
              "    border: 2px solid var(--fill-color);\n",
              "    border-color: transparent;\n",
              "    border-bottom-color: var(--fill-color);\n",
              "    animation:\n",
              "      spin 1s steps(1) infinite;\n",
              "  }\n",
              "\n",
              "  @keyframes spin {\n",
              "    0% {\n",
              "      border-color: transparent;\n",
              "      border-bottom-color: var(--fill-color);\n",
              "      border-left-color: var(--fill-color);\n",
              "    }\n",
              "    20% {\n",
              "      border-color: transparent;\n",
              "      border-left-color: var(--fill-color);\n",
              "      border-top-color: var(--fill-color);\n",
              "    }\n",
              "    30% {\n",
              "      border-color: transparent;\n",
              "      border-left-color: var(--fill-color);\n",
              "      border-top-color: var(--fill-color);\n",
              "      border-right-color: var(--fill-color);\n",
              "    }\n",
              "    40% {\n",
              "      border-color: transparent;\n",
              "      border-right-color: var(--fill-color);\n",
              "      border-top-color: var(--fill-color);\n",
              "    }\n",
              "    60% {\n",
              "      border-color: transparent;\n",
              "      border-right-color: var(--fill-color);\n",
              "    }\n",
              "    80% {\n",
              "      border-color: transparent;\n",
              "      border-right-color: var(--fill-color);\n",
              "      border-bottom-color: var(--fill-color);\n",
              "    }\n",
              "    90% {\n",
              "      border-color: transparent;\n",
              "      border-bottom-color: var(--fill-color);\n",
              "    }\n",
              "  }\n",
              "</style>\n",
              "\n",
              "      <script>\n",
              "        async function quickchart(key) {\n",
              "          const quickchartButtonEl =\n",
              "            document.querySelector('#' + key + ' button');\n",
              "          quickchartButtonEl.disabled = true;  // To prevent multiple clicks.\n",
              "          quickchartButtonEl.classList.add('colab-df-spinner');\n",
              "          try {\n",
              "            const charts = await google.colab.kernel.invokeFunction(\n",
              "                'suggestCharts', [key], {});\n",
              "          } catch (error) {\n",
              "            console.error('Error during call to suggestCharts:', error);\n",
              "          }\n",
              "          quickchartButtonEl.classList.remove('colab-df-spinner');\n",
              "          quickchartButtonEl.classList.add('colab-df-quickchart-complete');\n",
              "        }\n",
              "        (() => {\n",
              "          let quickchartButtonEl =\n",
              "            document.querySelector('#df-49580e3d-bb49-4d7e-bd48-21ee4619ca92 button');\n",
              "          quickchartButtonEl.style.display =\n",
              "            google.colab.kernel.accessAllowed ? 'block' : 'none';\n",
              "        })();\n",
              "      </script>\n",
              "    </div>\n",
              "\n",
              "    </div>\n",
              "  </div>\n"
            ],
            "application/vnd.google.colaboratory.intrinsic+json": {
              "type": "dataframe"
            }
          },
          "metadata": {},
          "execution_count": 2
        }
      ],
      "source": [
        "file_path = '/content/drive/MyDrive/Copy of SEER_Data_2024.txt'\n",
        "\n",
        "column_names = [\n",
        "    \"Age\", \"Race\", \"Sex\",\n",
        "    \"Year of diagnosis\", \"AJCC ID\", \"AJCC stage 3rd edition (1988-2003)\",\n",
        "    \"Breast - Adjusted AJCC 6th M (1988-2015)\", \"Breast - Adjusted AJCC 6th N (1988-2015)\",\n",
        "    \"Breast - Adjusted AJCC 6th T (1988-2015)\", \"Breast - Adjusted AJCC 6th Stage (1988-2015)\",\n",
        "    \"Behavior code ICD-O-3\", \"Behavior recode for analysis\", \"Chemotherapy recode\",\n",
        "    \"CS mets at dx (2004-2015)\", \"CS Mets Eval (2004-2015)\", \"ER Status\",\n",
        "    \"Race/ethnicity\", \"CS extension (2004-2015)\", \"Derived Summary Grade\",\n",
        "    \"Grade Clinical\", \"Grade Pathological\", \"Grade Recode\",\n",
        "    \"Histologic Type ICD-O-3\", \"Histology recode\", \"Laterality\",\n",
        "    \"CS lymph nodes (2004-2015)\", \"Marital status\", \"Median household income\",\n",
        "    \"Regional nodes positive\", \"PR Status\", \"Primary Site\",\n",
        "    \"Radiation\", \"Regional nodes examined\", \"SEER modified AJCC stage 3rd (1988-2003)\",\n",
        "    \"Site specific surgery (1973-1997 varying detail by year and site)\", \"Summary stage 2000 (1998-2017)\",\n",
        "    \"Surgery of oth reg/dis sites (1998-2002)\", \"Survival months\", \"Survival months flag\",\n",
        "    \"Tumor marker 1 (1990-2003)\", \"Tumor marker 2 (1990-2003)\", \"Tumor marker 3 (1998-2003)\",\n",
        "    \"CS tumor size (2004-2015)\", \"Tumor Size Summary\"\n",
        "]\n",
        "\n",
        "dfinit = pd.read_csv(\n",
        "    file_path,\n",
        "    delimiter='\\t',\n",
        "    encoding='utf-8',\n",
        "    na_values=' ',\n",
        "    keep_default_na=False,\n",
        "    low_memory=False,\n",
        "    names=column_names,\n",
        "    header=None\n",
        ")\n",
        "\n",
        "#dfinit.to_csv(\"initialdf.csv\")\n",
        "\n",
        "\n",
        "#filtering out cases beyond 2018\n",
        "cols2018 =  [\"Age\", \"Sex\",\"Race/ethnicity\",\"Year of diagnosis\", \"Behavior code ICD-O-3\", \"Behavior recode for analysis\", \"Chemotherapy recode\",\n",
        "     \"ER Status\",\"Derived Summary Grade\",\"Grade Clinical\", \"Grade Pathological\", \"Grade Recode\",\"Histologic Type ICD-O-3\", \"Histology recode\", \"Laterality\",\n",
        "    \"Marital status\", \"Median household income\",\"Regional nodes positive\", \"PR Status\", \"Primary Site\",\"Radiation\", \"Regional nodes examined\",\"Survival months\", \"Survival months flag\",\n",
        "     \"Tumor Size Summary\"]\n",
        "\n",
        "\n",
        "df2018 = dfinit[\n",
        "    (dfinit[\"Year of diagnosis\"] > 2017) &\n",
        "    (dfinit['AJCC ID'] == 'Breast Invasive')\n",
        "].loc[:, cols2018]\n",
        "\n",
        "df2018.reset_index(drop = True)"
      ]
    },
    {
      "cell_type": "markdown",
      "source": [
        "##Reading Data Directly from previously extracted subset of Data"
      ],
      "metadata": {
        "id": "zhE-c9Tywi0I"
      }
    },
    {
      "cell_type": "code",
      "source": [
        "# # prompt: https://drive.google.com/file/d/1kVrqvA_a4YFd41_aZljzvVE7BJ4rBOH-/view?usp=sharing read the data from here\n",
        "\n",
        "# !gdown --id 1kVrqvA_a4YFd41_aZljzvVE7BJ4rBOH- -O '/content/SEER_Data_2024.txt'\n",
        "\n",
        "# file_path = '/content/SEER_Data_2024.txt'\n",
        "\n",
        "# column_names = [\n",
        "#     \"Age\", \"Race\", \"Sex\",\n",
        "#     \"Year of diagnosis\", \"AJCC ID\", \"AJCC stage 3rd edition (1988-2003)\",\n",
        "#     \"Breast - Adjusted AJCC 6th M (1988-2015)\", \"Breast - Adjusted AJCC 6th N (1988-2015)\",\n",
        "#     \"Breast - Adjusted AJCC 6th T (1988-2015)\", \"Breast - Adjusted AJCC 6th Stage (1988-2015)\",\n",
        "#     \"Behavior code ICD-O-3\", \"Behavior recode for analysis\", \"Chemotherapy recode\",\n",
        "#     \"CS mets at dx (2004-2015)\", \"CS Mets Eval (2004-2015)\", \"ER Status\",\n",
        "#     \"Race/ethnicity\", \"CS extension (2004-2015)\", \"Derived Summary Grade\",\n",
        "#     \"Grade Clinical\", \"Grade Pathological\", \"Grade Recode\",\n",
        "#     \"Histologic Type ICD-O-3\", \"Histology recode\", \"Laterality\",\n",
        "#     \"CS lymph nodes (2004-2015)\", \"Marital status\", \"Median household income\",\n",
        "#     \"Regional nodes positive\", \"PR Status\", \"Primary Site\",\n",
        "#     \"Radiation\", \"Regional nodes examined\", \"SEER modified AJCC stage 3rd (1988-2003)\",\n",
        "#     \"Site specific surgery (1973-1997 varying detail by year and site)\", \"Summary stage 2000 (1998-2017)\",\n",
        "#     \"Surgery of oth reg/dis sites (1998-2002)\", \"Survival months\", \"Survival months flag\",\n",
        "#     \"Tumor marker 1 (1990-2003)\", \"Tumor marker 2 (1990-2003)\", \"Tumor marker 3 (1998-2003)\",\n",
        "#     \"CS tumor size (2004-2015)\", \"Tumor Size Summary\"\n",
        "# ]\n",
        "\n",
        "# dfinit = pd.read_csv(\n",
        "#     file_path,\n",
        "#     delimiter='\\t',\n",
        "#     encoding='utf-8',\n",
        "#     na_values=' ',\n",
        "#     keep_default_na=False,\n",
        "#     low_memory=False,\n",
        "#     names=column_names,\n",
        "#     header=None\n",
        "# )\n",
        "\n",
        "# #dfinit.to_csv(\"initialdf.csv\")\n",
        "\n",
        "\n",
        "# #filtering out cases beyond 2018\n",
        "# cols2018 =  [\"Age\", \"Sex\",\"Race/ethnicity\",\"Year of diagnosis\", \"Behavior code ICD-O-3\", \"Behavior recode for analysis\", \"Chemotherapy recode\",\n",
        "#      \"ER Status\",\"Derived Summary Grade\",\"Grade Clinical\", \"Grade Pathological\", \"Grade Recode\",\"Histologic Type ICD-O-3\", \"Histology recode\", \"Laterality\",\n",
        "#     \"Marital status\", \"Median household income\",\"Regional nodes positive\", \"PR Status\", \"Primary Site\",\"Radiation\", \"Regional nodes examined\",\"Survival months\", \"Survival months flag\",\n",
        "#      \"Tumor Size Summary\"]\n",
        "\n",
        "\n",
        "# df2018 = dfinit[\n",
        "#     (dfinit[\"Year of diagnosis\"] > 2017) &\n",
        "#     (dfinit['AJCC ID'] == 'Breast Invasive')\n",
        "# ].loc[:, cols2018]\n",
        "\n",
        "# df2018.reset_index(drop = True, inplace=True)\n",
        "\n",
        "# print(df2018.head())"
      ],
      "metadata": {
        "id": "ltxvWUy8R2tk"
      },
      "execution_count": null,
      "outputs": []
    },
    {
      "cell_type": "code",
      "execution_count": null,
      "metadata": {
        "id": "6cfhAkhqRgj1"
      },
      "outputs": [],
      "source": [
        "# #read the 2018+ data directly\n",
        "# df2018 = pd.read_csv(\"/content/SEER_2018.csv\")\n",
        "# df2018.drop(columns = [\"Unnamed: 0\"],inplace = True)"
      ]
    },
    {
      "cell_type": "markdown",
      "metadata": {
        "id": "ID2iDihbDVpa"
      },
      "source": [
        "##Understanding the data"
      ]
    },
    {
      "cell_type": "code",
      "execution_count": null,
      "metadata": {
        "id": "g8OVpL0TCuwo"
      },
      "outputs": [],
      "source": [
        "#df2018.shape\n",
        "\n",
        "#df2018.head()\n",
        "\n",
        "#df2018.info()\n",
        "\n",
        "#df2018.describe()\n",
        "\n",
        "#df2018.duplicated().sum()"
      ]
    },
    {
      "cell_type": "markdown",
      "metadata": {
        "id": "-f20OeQiwhKP"
      },
      "source": [
        "#Data Cleaning and Data Preprocessing"
      ]
    },
    {
      "cell_type": "code",
      "execution_count": null,
      "metadata": {
        "id": "3M3hI2oHiLfN"
      },
      "outputs": [],
      "source": [
        "df = df2018.copy()"
      ]
    },
    {
      "cell_type": "markdown",
      "metadata": {
        "id": "a70gjPdreLlD"
      },
      "source": [
        "##Removing columns not required for classification"
      ]
    },
    {
      "cell_type": "code",
      "execution_count": null,
      "metadata": {
        "id": "J4N3-JIeh33y"
      },
      "outputs": [],
      "source": [
        "#Note by Puja:\n",
        "#drop columns with only 1 value\n",
        "#drop Histologic Type ICD-O-3 as Histology recode is present to convey same data\n",
        "df.drop(columns = ['Behavior code ICD-O-3','Behavior recode for analysis','Grade Recode','Histologic Type ICD-O-3'],inplace = True)"
      ]
    },
    {
      "cell_type": "markdown",
      "metadata": {
        "id": "YBxjvJ_-MuoB"
      },
      "source": [
        "##Handling Survival months flag for target Variable Creation"
      ]
    },
    {
      "cell_type": "code",
      "execution_count": null,
      "metadata": {
        "collapsed": true,
        "id": "6ZsrMntxMh0-"
      },
      "outputs": [],
      "source": [
        "#to understand the threshold we can define for survivability\n",
        "#df2021 = df[df[\"Year of diagnosis\"] == 2021]\n",
        "#df2021[\"Survival months\"].value_counts()\n",
        "\n",
        "#Note by Puja:\n",
        "#The max data available is 11 Months: Let us take our definition of survivability 6 Months cancer free\n",
        "\n",
        "#Understanding the different survival flags\n",
        "#df[\"Survival months flag\"].value_counts()\n",
        "\n",
        "#df[df[\"Survival months flag\"]==\"Complete dates are available and there are 0 days of survival\"][\"Survival months\"].value_counts()\n"
      ]
    },
    {
      "cell_type": "code",
      "execution_count": null,
      "metadata": {
        "id": "nOdvCXgLOEVE"
      },
      "outputs": [],
      "source": [
        "#Note by Puja:\n",
        "# drop 'Incomplete dates are available and there cannot be zero days of follow-up',\n",
        "#and 'Incomplete dates are available and there could be zero days of follow-up'\n",
        "#and 'Not calculated because a Death Certificate Only or Autopsy Only case\t30' as they are not relevant to our main objective\n",
        "#keep only complete dates available\n",
        "#We can drop the Survival Months values where it is 'Not calculated because a Death Certificate Only or Autopsy Only case', as we are only dealing with survivability prediction based on survival from cancer and we\n",
        "#and we hence ignore cases where we don't know the cause of death\n",
        "filter_vals = ['Complete dates are available and there are more than 0 days of survival','Complete dates are available and there are 0 days of survival']\n",
        "df = df[df['Survival months flag'].isin(filter_vals)]"
      ]
    },
    {
      "cell_type": "markdown",
      "metadata": {
        "id": "NHEqH-jNB_nX"
      },
      "source": [
        "## Remove Duplicates"
      ]
    },
    {
      "cell_type": "code",
      "execution_count": null,
      "metadata": {
        "colab": {
          "base_uri": "https://localhost:8080/"
        },
        "id": "qHDYjH89h0OF",
        "outputId": "70c22144-d024-4cd8-df52-31da4dcedc60"
      },
      "outputs": [
        {
          "output_type": "execute_result",
          "data": {
            "text/plain": [
              "np.int64(9)"
            ]
          },
          "metadata": {},
          "execution_count": 9
        }
      ],
      "source": [
        "df.duplicated().sum()"
      ]
    },
    {
      "cell_type": "code",
      "execution_count": null,
      "metadata": {
        "id": "mEH9ru7_B-Y7"
      },
      "outputs": [],
      "source": [
        "df.drop_duplicates(keep=\"first\",inplace = True)"
      ]
    },
    {
      "cell_type": "code",
      "execution_count": null,
      "metadata": {
        "colab": {
          "base_uri": "https://localhost:8080/"
        },
        "id": "XQkyEoNSCS7e",
        "outputId": "e6519b26-b7ca-4ba2-e264-43d1b73894bf"
      },
      "outputs": [
        {
          "output_type": "execute_result",
          "data": {
            "text/plain": [
              "(87722, 21)"
            ]
          },
          "metadata": {},
          "execution_count": 11
        }
      ],
      "source": [
        "df.shape"
      ]
    },
    {
      "cell_type": "markdown",
      "metadata": {
        "id": "tNE6GK02wkDt"
      },
      "source": [
        "## Handling Missing Values"
      ]
    },
    {
      "cell_type": "markdown",
      "metadata": {
        "id": "hHmPwptyeDhG"
      },
      "source": [
        "###Handling Blank(s)\n"
      ]
    },
    {
      "cell_type": "code",
      "execution_count": null,
      "metadata": {
        "colab": {
          "base_uri": "https://localhost:8080/"
        },
        "id": "iY4sYvVQDIT8",
        "outputId": "c98e2b4a-66ab-4514-f5e8-9952f28321b3"
      },
      "outputs": [
        {
          "output_type": "stream",
          "name": "stdout",
          "text": [
            "[]\n"
          ]
        }
      ],
      "source": [
        "#First Handling the presence of 'Blank(s)' - P\n",
        "blanksvalues = []\n",
        "for i in df.columns:\n",
        "  if \"Blank(s)\" in df[i].unique():\n",
        "    blanksvalues.append(i)\n",
        "    print(i,df[i].value_counts().get(\"Blank(s)\"))\n",
        "print(blanksvalues)"
      ]
    },
    {
      "cell_type": "markdown",
      "metadata": {
        "id": "pB8mnI7ag2-D"
      },
      "source": [
        "###Handle the 'Unknown' values\n"
      ]
    },
    {
      "cell_type": "code",
      "execution_count": null,
      "metadata": {
        "colab": {
          "base_uri": "https://localhost:8080/"
        },
        "id": "LQS3fm_4wjZ6",
        "outputId": "68e07bf5-a49f-45e0-9e44-203ecf9afc2b"
      },
      "outputs": [
        {
          "output_type": "stream",
          "name": "stdout",
          "text": [
            "Race/ethnicity 417\n",
            "Marital status 4502\n",
            "['Race/ethnicity', 'Marital status']\n"
          ]
        }
      ],
      "source": [
        "#Next handle the 'Unknown' values - P\n",
        "df = df.replace('Unknown', np.nan)\n",
        "unknownvalues = []\n",
        "for column in df.columns:\n",
        "    if df[column].isnull().any():\n",
        "        unknownvalues.append(column)\n",
        "        print(column, df[column].isnull().sum())  # Count of NaN values\n",
        "print(unknownvalues)"
      ]
    },
    {
      "cell_type": "code",
      "execution_count": null,
      "metadata": {
        "colab": {
          "base_uri": "https://localhost:8080/"
        },
        "id": "O-yE78JmTswe",
        "outputId": "df815220-bdee-4d3d-eae5-b9593d82c7b8"
      },
      "outputs": [
        {
          "output_type": "stream",
          "name": "stderr",
          "text": [
            "/tmp/ipython-input-14-505595383.py:3: FutureWarning: A value is trying to be set on a copy of a DataFrame or Series through chained assignment using an inplace method.\n",
            "The behavior will change in pandas 3.0. This inplace method will never work because the intermediate object on which we are setting values always behaves as a copy.\n",
            "\n",
            "For example, when doing 'df[col].method(value, inplace=True)', try using 'df.method({col: value}, inplace=True)' or df[col] = df[col].method(value) instead, to perform the operation inplace on the original object.\n",
            "\n",
            "\n",
            "  df['Marital status'].fillna(df['Age'].map(mode_values),inplace = True)\n"
          ]
        }
      ],
      "source": [
        "#Imputation using Age, mode (age has the highest correlation)\n",
        "mode_values = df.groupby('Age')['Marital status'].agg(lambda x: x.mode()[0])\n",
        "df['Marital status'].fillna(df['Age'].map(mode_values),inplace = True)"
      ]
    },
    {
      "cell_type": "code",
      "execution_count": null,
      "metadata": {
        "id": "aXxXXou2674n"
      },
      "outputs": [],
      "source": [
        "#print(df[\"Median household income\"].value_counts().get('Unknown/missing/no match/Not 1990-2022'))\n",
        "#Only 6 values so drop those values\n",
        "#print(df['ER Status'].value_counts().get('Borderline/Unknown'))\n",
        "#print(df['PR Status'].value_counts().get('Borderline/Unknown'))\n",
        "#print(df['Radiation'].value_counts().get('Recommended, unknown if administered'))"
      ]
    },
    {
      "cell_type": "code",
      "source": [
        "#drop the unknown values in ER and PR status\n",
        "df = df.replace('Borderline/Unknown', np.nan)\n",
        "#drop unknown in radiation\n",
        "df = df.replace('Recommended, unknown if administered', np.nan)\n",
        "#drop unknown in laterality\n",
        "df = df.replace('Paired site, but no information concerning laterality', np.nan)\n",
        "df = df.replace('Only one side - side unspecified', np.nan)\n",
        "#drop unknowns in median household income\n",
        "df = df.replace('Unknown/missing/no match/Not 1990-2022',np.nan)"
      ],
      "metadata": {
        "id": "VCkw3XZas9Eb"
      },
      "execution_count": null,
      "outputs": []
    },
    {
      "cell_type": "code",
      "execution_count": null,
      "metadata": {
        "id": "WEfkVTm0nsEc"
      },
      "outputs": [],
      "source": [
        "df.dropna(subset = [\"Race/ethnicity\",'Median household income',\"ER Status\",\"PR Status\",\"Radiation\",\"Laterality\"],inplace = True)"
      ]
    },
    {
      "cell_type": "code",
      "source": [
        "df.shape"
      ],
      "metadata": {
        "colab": {
          "base_uri": "https://localhost:8080/"
        },
        "id": "JUcVu6hpLlKj",
        "outputId": "d0294b2e-653b-4c8b-90a7-c1b040004269"
      },
      "execution_count": null,
      "outputs": [
        {
          "output_type": "execute_result",
          "data": {
            "text/plain": [
              "(83456, 21)"
            ]
          },
          "metadata": {},
          "execution_count": 18
        }
      ]
    },
    {
      "cell_type": "markdown",
      "metadata": {
        "id": "R9HXtV9YkMOd"
      },
      "source": [
        "##Fix Structural errors"
      ]
    },
    {
      "cell_type": "code",
      "execution_count": null,
      "metadata": {
        "id": "4q9FRLHr29PX"
      },
      "outputs": [],
      "source": [
        "#columns which should have datatype as integer which are currently string format\n",
        "#are 'Regional nodes positive', 'Regional nodes examined', 'Tumor Size Summary' ,'Survival months'\n",
        "df['Regional nodes positive'] = df['Regional nodes positive'].astype(int)\n",
        "df['Regional nodes examined'] = df['Regional nodes examined'].astype(int)\n",
        "df['Tumor Size Summary'] = df['Tumor Size Summary'].astype(int)\n",
        "df['Survival months'] = df['Survival months'].astype(int)\n"
      ]
    },
    {
      "cell_type": "code",
      "source": [
        "df = df.replace(r' \\([0-9]{4}\\+\\)','',regex = True)"
      ],
      "metadata": {
        "id": "cg-RZFslMdaO"
      },
      "execution_count": null,
      "outputs": []
    },
    {
      "cell_type": "markdown",
      "source": [
        "###Handling Race"
      ],
      "metadata": {
        "id": "MK7Mw7K4M6RI"
      }
    },
    {
      "cell_type": "code",
      "source": [
        "#combine the NOS regions\n",
        "df['Race/ethnicity'] = df['Race/ethnicity'].str.replace(', NOS', '', regex=False)"
      ],
      "metadata": {
        "id": "Mfz12ZW4NBLy"
      },
      "execution_count": null,
      "outputs": []
    },
    {
      "cell_type": "code",
      "source": [
        "nos_mapping = {\n",
        "    'Asian Indian': 'Asian Indian or Pakistani',\n",
        "    'Pakistani': 'Asian Indian or Pakistani',\n",
        "    'Hawaiian': 'Pacific Islander',\n",
        "    'Samoan': 'Pacific Islander',\n",
        "    'Tongan': 'Pacific Islander',\n",
        "    'Fiji Islander': 'Pacific Islander',\n",
        "    'Guamanian': 'Pacific Islander',\n",
        "    'Polynesian': 'Pacific Islander',\n",
        "    'Micronesian': 'Pacific Islander',\n",
        "    'Chamorran': 'Pacific Islander',\n",
        "    'Thai':'Other Asian',\n",
        "    'Kampuchean':'Other Asian',\n",
        "    'Laotian':'Other Asian',\n",
        "    'Hmong':'Other Asian',\n",
        "    'Tahitian':'Pacific Islander'\n",
        "\n",
        "}\n",
        "\n",
        "df['Race/ethnicity'] = df['Race/ethnicity'].replace(nos_mapping)\n",
        "\n",
        "grouping_mapping = {\n",
        "    'White': 'White',\n",
        "    'Black': 'Black',\n",
        "    'Chinese': 'Asian',\n",
        "    'Filipino': 'Asian',\n",
        "    'Other Asian': 'Asian',\n",
        "    'Japanese': 'Asian',\n",
        "    'Pacific Islander': 'Pacific Islander',\n",
        "    'Asian Indian or Pakistani': 'Asian',\n",
        "    'American Indian/Alaska Native': 'Native American',\n",
        "    'Korean': 'Asian',\n",
        "    'Vietnamese': 'Asian',\n",
        "    'Other': 'Other'\n",
        "}\n",
        "\n",
        "# Map the Race/Ethnicity to broader categories\n",
        "df['Race/ethnicity'] = df['Race/ethnicity'].replace(grouping_mapping)"
      ],
      "metadata": {
        "id": "7OrH4RGVQHgS"
      },
      "execution_count": null,
      "outputs": []
    },
    {
      "cell_type": "markdown",
      "source": [
        "###Handling Radiation\n"
      ],
      "metadata": {
        "id": "dSq6r2hrM8FW"
      }
    },
    {
      "cell_type": "code",
      "source": [
        "#combine refused and none\n",
        "df.replace('Refused', 'None/Unknown', inplace=True)\n",
        "df = df[~df['Radiation'].str.contains('NOS', na=False)]"
      ],
      "metadata": {
        "id": "qRmWO-wwPcha"
      },
      "execution_count": null,
      "outputs": []
    },
    {
      "cell_type": "markdown",
      "metadata": {
        "id": "uLS4akKIDE11"
      },
      "source": [
        "##Outliers Handling"
      ]
    },
    {
      "cell_type": "code",
      "execution_count": null,
      "metadata": {
        "id": "HlljxTNc_L1J"
      },
      "outputs": [],
      "source": [
        "#plot boxplot for each outlier\n",
        "def box_plot(df,col):\n",
        "  plt.figure(figsize=(10, 6))\n",
        "  plt.boxplot(df[col])\n",
        "  plt.title(f'Boxplot of {col}')\n",
        "  plt.ylabel(f'Count of f{col}')\n",
        "  plt.grid(True)\n",
        "  plt.show()\n",
        "\n",
        "#regional nodes outlier calculation\n",
        "def outliers(df, col):\n",
        "  Q1 = df[col].quantile(0.25)\n",
        "  Q3 = df[col].quantile(0.75)\n",
        "  IQR = Q3 - Q1\n",
        "  lower_bound = Q1 - 1.5 * IQR\n",
        "  upper_bound = Q3 + 1.5 * IQR\n",
        "  outliers = df[(df[col] < lower_bound) | (df[col] > upper_bound)]\n",
        "  print(len(outliers))\n",
        "  return outliers.index"
      ]
    },
    {
      "cell_type": "code",
      "execution_count": null,
      "metadata": {
        "colab": {
          "base_uri": "https://localhost:8080/",
          "height": 563
        },
        "id": "kQ_ASf5r_2Zq",
        "outputId": "a0a3491c-673e-4b73-f59b-394f4224aa17"
      },
      "outputs": [
        {
          "output_type": "display_data",
          "data": {
            "text/plain": [
              "<Figure size 1000x600 with 1 Axes>"
            ],
            "image/png": "[encoded data removed]"
          },
          "metadata": {}
        },
        {
          "output_type": "stream",
          "name": "stdout",
          "text": [
            "18275\n"
          ]
        }
      ],
      "source": [
        "box_plot(df, 'Regional nodes positive')\n",
        "out = outliers(df, 'Regional nodes positive')\n",
        "#df.drop(out, inplace = True)"
      ]
    },
    {
      "cell_type": "code",
      "execution_count": null,
      "metadata": {
        "colab": {
          "base_uri": "https://localhost:8080/",
          "height": 563
        },
        "id": "ZnVFBCNIHVCx",
        "outputId": "ac4f9d79-bec5-4941-f8a1-50a2585c3f36"
      },
      "outputs": [
        {
          "output_type": "display_data",
          "data": {
            "text/plain": [
              "<Figure size 1000x600 with 1 Axes>"
            ],
            "image/png": "[encoded data removed]"
          },
          "metadata": {}
        },
        {
          "output_type": "stream",
          "name": "stdout",
          "text": [
            "11442\n"
          ]
        }
      ],
      "source": [
        "box_plot(df, 'Regional nodes examined')\n",
        "out = outliers(df, 'Regional nodes examined')\n",
        "#df.drop(out, inplace = True)"
      ]
    },
    {
      "cell_type": "code",
      "execution_count": null,
      "metadata": {
        "colab": {
          "base_uri": "https://localhost:8080/",
          "height": 563
        },
        "id": "uYmh8AsoJXvv",
        "outputId": "e1d6217c-857e-430f-de22-ec4af52f27a7"
      },
      "outputs": [
        {
          "output_type": "stream",
          "name": "stdout",
          "text": [
            "0\n"
          ]
        },
        {
          "output_type": "display_data",
          "data": {
            "text/plain": [
              "<Figure size 1000x600 with 1 Axes>"
            ],
            "image/png": "[encoded data removed]"
          },
          "metadata": {}
        }
      ],
      "source": [
        "out = outliers(df, 'Primary Site')\n",
        "box_plot(df, 'Primary Site')\n",
        "#df.drop(out, inplace = True)"
      ]
    },
    {
      "cell_type": "code",
      "execution_count": null,
      "metadata": {
        "colab": {
          "base_uri": "https://localhost:8080/",
          "height": 563
        },
        "id": "zFwb-aDCKDsH",
        "outputId": "4636334f-700c-49c6-bc07-7fc8e50083fe"
      },
      "outputs": [
        {
          "output_type": "stream",
          "name": "stdout",
          "text": [
            "6663\n"
          ]
        },
        {
          "output_type": "display_data",
          "data": {
            "text/plain": [
              "<Figure size 1000x600 with 1 Axes>"
            ],
            "image/png": "[encoded data removed]"
          },
          "metadata": {}
        }
      ],
      "source": [
        "out = outliers(df, 'Tumor Size Summary')\n",
        "box_plot(df, 'Tumor Size Summary')\n",
        "#df.drop(out, inplace = True)\n",
        "\n",
        "#not handling outliers of Survival months as they are the target variable(before translation)"
      ]
    },
    {
      "cell_type": "markdown",
      "metadata": {
        "id": "4wjo5mz4Mb2E"
      },
      "source": [
        "##Data Transformation"
      ]
    },
    {
      "cell_type": "markdown",
      "metadata": {
        "id": "Vn5cddd_T12m"
      },
      "source": [
        "###Standardization and Normalization"
      ]
    },
    {
      "cell_type": "code",
      "execution_count": null,
      "metadata": {
        "id": "iHvVr3toSWUz"
      },
      "outputs": [],
      "source": [
        "#required before algorithms like KNN, SVM,etc\n",
        "from sklearn.preprocessing import StandardScaler\n",
        "scaler = StandardScaler()\n",
        "\n",
        "def minmaxnormalize(data):\n",
        "    return (data - data.min(axis=0)) / (data.max(axis=0) - data.min(axis=0))\n"
      ]
    },
    {
      "cell_type": "code",
      "source": [
        "df.loc[:,['Regional nodes examined','Regional nodes positive','Tumor Size Summary']] = scaler.fit_transform(df.loc[:,['Regional nodes examined','Regional nodes positive','Tumor Size Summary']])\n",
        "\n",
        "df['Primary Site'] = minmaxnormalize(df['Primary Site'])"
      ],
      "metadata": {
        "id": "gGCrN68v_GYR",
        "colab": {
          "base_uri": "https://localhost:8080/"
        },
        "outputId": "bd4de42f-c04e-4118-b8d5-4f034030ed87"
      },
      "execution_count": null,
      "outputs": [
        {
          "output_type": "stream",
          "name": "stderr",
          "text": [
            "/tmp/ipython-input-30-1403959080.py:1: FutureWarning: Setting an item of incompatible dtype is deprecated and will raise in a future error of pandas. Value '[-0.23144809 -0.17692611  0.15020581 ... -0.12240412 -0.39501405\n",
            " -0.39501405]' has dtype incompatible with int64, please explicitly cast to a compatible dtype first.\n",
            "  df.loc[:,['Regional nodes examined','Regional nodes positive','Tumor Size Summary']] = scaler.fit_transform(df.loc[:,['Regional nodes examined','Regional nodes positive','Tumor Size Summary']])\n",
            "/tmp/ipython-input-30-1403959080.py:1: FutureWarning: Setting an item of incompatible dtype is deprecated and will raise in a future error of pandas. Value '[-0.49552241 -0.5212865  -0.46975832 ... -0.5212865   2.00359407\n",
            "  2.00359407]' has dtype incompatible with int64, please explicitly cast to a compatible dtype first.\n",
            "  df.loc[:,['Regional nodes examined','Regional nodes positive','Tumor Size Summary']] = scaler.fit_transform(df.loc[:,['Regional nodes examined','Regional nodes positive','Tumor Size Summary']])\n",
            "/tmp/ipython-input-30-1403959080.py:1: FutureWarning: Setting an item of incompatible dtype is deprecated and will raise in a future error of pandas. Value '[-0.19766402 -0.22595254  5.34122909 ... -0.24858336 -0.10148303\n",
            " -0.24858336]' has dtype incompatible with int64, please explicitly cast to a compatible dtype first.\n",
            "  df.loc[:,['Regional nodes examined','Regional nodes positive','Tumor Size Summary']] = scaler.fit_transform(df.loc[:,['Regional nodes examined','Regional nodes positive','Tumor Size Summary']])\n"
          ]
        }
      ]
    },
    {
      "cell_type": "markdown",
      "metadata": {
        "id": "UZ5b0eXFgXhO"
      },
      "source": [
        "###Target Variable Generation"
      ]
    },
    {
      "cell_type": "code",
      "execution_count": null,
      "metadata": {
        "id": "FlxR68IngWhq"
      },
      "outputs": [],
      "source": [
        "threshold = 6 #6 months\n",
        "df[\"Survived\"] = df[\"Survival months\"].apply(lambda x: 0 if x<= threshold else 1)"
      ]
    },
    {
      "cell_type": "code",
      "execution_count": null,
      "metadata": {
        "id": "HmRviwPfYGJM"
      },
      "outputs": [],
      "source": [
        "#will drop Survival months, year of diagnosis once target var generation completed\n",
        "# df.drop(columns = ['Survival months flag','Year of diagnosis',\"Survival months\"], inplace = True)"
      ]
    },
    {
      "cell_type": "markdown",
      "metadata": {
        "id": "2WoJyyY_o63M"
      },
      "source": [
        "#Feature Selection"
      ]
    },
    {
      "cell_type": "code",
      "execution_count": null,
      "metadata": {
        "id": "j8F801SMZQBD"
      },
      "outputs": [],
      "source": [
        "#chi squared test for 2 categorical columns:\n",
        "from scipy.stats import chi2_contingency\n",
        "def chi_squared_test(df, col1, col2):\n",
        "  contingency_table = pd.crosstab(df[col1], df[col2])\n",
        "  print(contingency_table)\n",
        "  chi2, p, dof, expected = chi2_contingency(contingency_table)\n",
        "  print(f\"Chi^2 test for {col1} and {col2}\")\n",
        "  print(\"Chi^2 value: \",chi2)\n",
        "  print(\"P-value: \",p)\n",
        "  return chi2, p\n",
        "\n",
        "\n",
        "def cramers_v(df, var1, var2):\n",
        "  crosstab = pd.crosstab(df[var1], df[var2])\n",
        "  chi2 = chi2_contingency(crosstab)[0]\n",
        "  n = crosstab.sum().sum()\n",
        "  phi2 = chi2 / n\n",
        "  r, k = crosstab.shape\n",
        "  phi2corr = max(0, phi2 - ((k - 1) * (r - 1)) / (n - 1))\n",
        "  rcorr = r - ((r - 1)**2) / (n - 1)\n",
        "  kcorr = k - ((k - 1)**2) / (n - 1)\n",
        "  res = np.sqrt(phi2corr / min((kcorr - 1), (rcorr - 1)))\n",
        "  print(f\"Cramer's V between {var1} and {var2}: {res}\")\n",
        "  return res"
      ]
    },
    {
      "cell_type": "markdown",
      "source": [
        "##PCA FOR NUMERICAL VALUES"
      ],
      "metadata": {
        "id": "8sZCnJbVBZDI"
      }
    },
    {
      "cell_type": "code",
      "source": [
        "#Note: Did not choose t-SNE as I wanted to preserve the variance - Puja\n",
        "\n",
        "from sklearn.decomposition import PCA\n",
        "def pca_feature(df, columns):\n",
        "  x = df.loc[:, columns]\n",
        "  pca = PCA(n_components=1)\n",
        "  principalComponents = pca.fit_transform(x)\n",
        "  df['PCA_1'] = principalComponents\n",
        "  return df"
      ],
      "metadata": {
        "id": "QxT2cRB_BdSZ"
      },
      "execution_count": null,
      "outputs": []
    },
    {
      "cell_type": "code",
      "source": [
        "correlation_matrix = df[['Regional nodes positive', 'Regional nodes examined', 'Tumor Size Summary','Primary Site']].corr(method='pearson')\n",
        "correlation_matrix"
      ],
      "metadata": {
        "colab": {
          "base_uri": "https://localhost:8080/",
          "height": 175
        },
        "id": "i22RtO7mteww",
        "outputId": "004a7893-7f18-4ae9-96a3-85347ca1904e"
      },
      "execution_count": null,
      "outputs": [
        {
          "output_type": "execute_result",
          "data": {
            "text/plain": [
              "                         Regional nodes positive  Regional nodes examined  \\\n",
              "Regional nodes positive                 1.000000                 0.252523   \n",
              "Regional nodes examined                 0.252523                 1.000000   \n",
              "Tumor Size Summary                      0.191173                 0.119772   \n",
              "Primary Site                            0.060333                 0.055067   \n",
              "\n",
              "                         Tumor Size Summary  Primary Site  \n",
              "Regional nodes positive            0.191173      0.060333  \n",
              "Regional nodes examined            0.119772      0.055067  \n",
              "Tumor Size Summary                 1.000000      0.081869  \n",
              "Primary Site                       0.081869      1.000000  "
            ],
            "text/html": [
              "\n",
              "  <div id=\"df-d2199b2d-65aa-4789-adbd-5c76bcb9bf0e\" class=\"colab-df-container\">\n",
              "    <div>\n",
              "<style scoped>\n",
              "    .dataframe tbody tr th:only-of-type {\n",
              "        vertical-align: middle;\n",
              "    }\n",
              "\n",
              "    .dataframe tbody tr th {\n",
              "        vertical-align: top;\n",
              "    }\n",
              "\n",
              "    .dataframe thead th {\n",
              "        text-align: right;\n",
              "    }\n",
              "</style>\n",
              "<table border=\"1\" class=\"dataframe\">\n",
              "  <thead>\n",
              "    <tr style=\"text-align: right;\">\n",
              "      <th></th>\n",
              "      <th>Regional nodes positive</th>\n",
              "      <th>Regional nodes examined</th>\n",
              "      <th>Tumor Size Summary</th>\n",
              "      <th>Primary Site</th>\n",
              "    </tr>\n",
              "  </thead>\n",
              "  <tbody>\n",
              "    <tr>\n",
              "      <th>Regional nodes positive</th>\n",
              "      <td>1.000000</td>\n",
              "      <td>0.252523</td>\n",
              "      <td>0.191173</td>\n",
              "      <td>0.060333</td>\n",
              "    </tr>\n",
              "    <tr>\n",
              "      <th>Regional nodes examined</th>\n",
              "      <td>0.252523</td>\n",
              "      <td>1.000000</td>\n",
              "      <td>0.119772</td>\n",
              "      <td>0.055067</td>\n",
              "    </tr>\n",
              "    <tr>\n",
              "      <th>Tumor Size Summary</th>\n",
              "      <td>0.191173</td>\n",
              "      <td>0.119772</td>\n",
              "      <td>1.000000</td>\n",
              "      <td>0.081869</td>\n",
              "    </tr>\n",
              "    <tr>\n",
              "      <th>Primary Site</th>\n",
              "      <td>0.060333</td>\n",
              "      <td>0.055067</td>\n",
              "      <td>0.081869</td>\n",
              "      <td>1.000000</td>\n",
              "    </tr>\n",
              "  </tbody>\n",
              "</table>\n",
              "</div>\n",
              "    <div class=\"colab-df-buttons\">\n",
              "\n",
              "  <div class=\"colab-df-container\">\n",
              "    <button class=\"colab-df-convert\" onclick=\"convertToInteractive('df-d2199b2d-65aa-4789-adbd-5c76bcb9bf0e')\"\n",
              "            title=\"Convert this dataframe to an interactive table.\"\n",
              "            style=\"display:none;\">\n",
              "\n",
              "  <svg xmlns=\"http://www.w3.org/2000/svg\" height=\"24px\" viewBox=\"0 -960 960 960\">\n",
              "    <path d=\"M120-120v-720h720v720H120Zm60-500h600v-160H180v160Zm220 220h160v-160H400v160Zm0 220h160v-160H400v160ZM180-400h160v-160H180v160Zm440 0h160v-160H620v160ZM180-180h160v-160H180v160Zm440 0h160v-160H620v160Z\"/>\n",
              "  </svg>\n",
              "    </button>\n",
              "\n",
              "  <style>\n",
              "    .colab-df-container {\n",
              "      display:flex;\n",
              "      gap: 12px;\n",
              "    }\n",
              "\n",
              "    .colab-df-convert {\n",
              "      background-color: #E8F0FE;\n",
              "      border: none;\n",
              "      border-radius: 50%;\n",
              "      cursor: pointer;\n",
              "      display: none;\n",
              "      fill: #1967D2;\n",
              "      height: 32px;\n",
              "      padding: 0 0 0 0;\n",
              "      width: 32px;\n",
              "    }\n",
              "\n",
              "    .colab-df-convert:hover {\n",
              "      background-color: #E2EBFA;\n",
              "      box-shadow: 0px 1px 2px rgba(60, 64, 67, 0.3), 0px 1px 3px 1px rgba(60, 64, 67, 0.15);\n",
              "      fill: #174EA6;\n",
              "    }\n",
              "\n",
              "    .colab-df-buttons div {\n",
              "      margin-bottom: 4px;\n",
              "    }\n",
              "\n",
              "    [theme=dark] .colab-df-convert {\n",
              "      background-color: #3B4455;\n",
              "      fill: #D2E3FC;\n",
              "    }\n",
              "\n",
              "    [theme=dark] .colab-df-convert:hover {\n",
              "      background-color: #434B5C;\n",
              "      box-shadow: 0px 1px 3px 1px rgba(0, 0, 0, 0.15);\n",
              "      filter: drop-shadow(0px 1px 2px rgba(0, 0, 0, 0.3));\n",
              "      fill: #FFFFFF;\n",
              "    }\n",
              "  </style>\n",
              "\n",
              "    <script>\n",
              "      const buttonEl =\n",
              "        document.querySelector('#df-d2199b2d-65aa-4789-adbd-5c76bcb9bf0e button.colab-df-convert');\n",
              "      buttonEl.style.display =\n",
              "        google.colab.kernel.accessAllowed ? 'block' : 'none';\n",
              "\n",
              "      async function convertToInteractive(key) {\n",
              "        const element = document.querySelector('#df-d2199b2d-65aa-4789-adbd-5c76bcb9bf0e');\n",
              "        const dataTable =\n",
              "          await google.colab.kernel.invokeFunction('convertToInteractive',\n",
              "                                                    [key], {});\n",
              "        if (!dataTable) return;\n",
              "\n",
              "        const docLinkHtml = 'Like what you see? Visit the ' +\n",
              "          '<a target=\"_blank\" href=https://colab.research.google.com/notebooks/data_table.ipynb>data table notebook</a>'\n",
              "          + ' to learn more about interactive tables.';\n",
              "        element.innerHTML = '';\n",
              "        dataTable['output_type'] = 'display_data';\n",
              "        await google.colab.output.renderOutput(dataTable, element);\n",
              "        const docLink = document.createElement('div');\n",
              "        docLink.innerHTML = docLinkHtml;\n",
              "        element.appendChild(docLink);\n",
              "      }\n",
              "    </script>\n",
              "  </div>\n",
              "\n",
              "\n",
              "    <div id=\"df-e83d1df1-42b1-4cf8-9241-495ff9bd697e\">\n",
              "      <button class=\"colab-df-quickchart\" onclick=\"quickchart('df-e83d1df1-42b1-4cf8-9241-495ff9bd697e')\"\n",
              "                title=\"Suggest charts\"\n",
              "                style=\"display:none;\">\n",
              "\n",
              "<svg xmlns=\"http://www.w3.org/2000/svg\" height=\"24px\"viewBox=\"0 0 24 24\"\n",
              "     width=\"24px\">\n",
              "    <g>\n",
              "        <path d=\"M19 3H5c-1.1 0-2 .9-2 2v14c0 1.1.9 2 2 2h14c1.1 0 2-.9 2-2V5c0-1.1-.9-2-2-2zM9 17H7v-7h2v7zm4 0h-2V7h2v10zm4 0h-2v-4h2v4z\"/>\n",
              "    </g>\n",
              "</svg>\n",
              "      </button>\n",
              "\n",
              "<style>\n",
              "  .colab-df-quickchart {\n",
              "      --bg-color: #E8F0FE;\n",
              "      --fill-color: #1967D2;\n",
              "      --hover-bg-color: #E2EBFA;\n",
              "      --hover-fill-color: #174EA6;\n",
              "      --disabled-fill-color: #AAA;\n",
              "      --disabled-bg-color: #DDD;\n",
              "  }\n",
              "\n",
              "  [theme=dark] .colab-df-quickchart {\n",
              "      --bg-color: #3B4455;\n",
              "      --fill-color: #D2E3FC;\n",
              "      --hover-bg-color: #434B5C;\n",
              "      --hover-fill-color: #FFFFFF;\n",
              "      --disabled-bg-color: #3B4455;\n",
              "      --disabled-fill-color: #666;\n",
              "  }\n",
              "\n",
              "  .colab-df-quickchart {\n",
              "    background-color: var(--bg-color);\n",
              "    border: none;\n",
              "    border-radius: 50%;\n",
              "    cursor: pointer;\n",
              "    display: none;\n",
              "    fill: var(--fill-color);\n",
              "    height: 32px;\n",
              "    padding: 0;\n",
              "    width: 32px;\n",
              "  }\n",
              "\n",
              "  .colab-df-quickchart:hover {\n",
              "    background-color: var(--hover-bg-color);\n",
              "    box-shadow: 0 1px 2px rgba(60, 64, 67, 0.3), 0 1px 3px 1px rgba(60, 64, 67, 0.15);\n",
              "    fill: var(--button-hover-fill-color);\n",
              "  }\n",
              "\n",
              "  .colab-df-quickchart-complete:disabled,\n",
              "  .colab-df-quickchart-complete:disabled:hover {\n",
              "    background-color: var(--disabled-bg-color);\n",
              "    fill: var(--disabled-fill-color);\n",
              "    box-shadow: none;\n",
              "  }\n",
              "\n",
              "  .colab-df-spinner {\n",
              "    border: 2px solid var(--fill-color);\n",
              "    border-color: transparent;\n",
              "    border-bottom-color: var(--fill-color);\n",
              "    animation:\n",
              "      spin 1s steps(1) infinite;\n",
              "  }\n",
              "\n",
              "  @keyframes spin {\n",
              "    0% {\n",
              "      border-color: transparent;\n",
              "      border-bottom-color: var(--fill-color);\n",
              "      border-left-color: var(--fill-color);\n",
              "    }\n",
              "    20% {\n",
              "      border-color: transparent;\n",
              "      border-left-color: var(--fill-color);\n",
              "      border-top-color: var(--fill-color);\n",
              "    }\n",
              "    30% {\n",
              "      border-color: transparent;\n",
              "      border-left-color: var(--fill-color);\n",
              "      border-top-color: var(--fill-color);\n",
              "      border-right-color: var(--fill-color);\n",
              "    }\n",
              "    40% {\n",
              "      border-color: transparent;\n",
              "      border-right-color: var(--fill-color);\n",
              "      border-top-color: var(--fill-color);\n",
              "    }\n",
              "    60% {\n",
              "      border-color: transparent;\n",
              "      border-right-color: var(--fill-color);\n",
              "    }\n",
              "    80% {\n",
              "      border-color: transparent;\n",
              "      border-right-color: var(--fill-color);\n",
              "      border-bottom-color: var(--fill-color);\n",
              "    }\n",
              "    90% {\n",
              "      border-color: transparent;\n",
              "      border-bottom-color: var(--fill-color);\n",
              "    }\n",
              "  }\n",
              "</style>\n",
              "\n",
              "      <script>\n",
              "        async function quickchart(key) {\n",
              "          const quickchartButtonEl =\n",
              "            document.querySelector('#' + key + ' button');\n",
              "          quickchartButtonEl.disabled = true;  // To prevent multiple clicks.\n",
              "          quickchartButtonEl.classList.add('colab-df-spinner');\n",
              "          try {\n",
              "            const charts = await google.colab.kernel.invokeFunction(\n",
              "                'suggestCharts', [key], {});\n",
              "          } catch (error) {\n",
              "            console.error('Error during call to suggestCharts:', error);\n",
              "          }\n",
              "          quickchartButtonEl.classList.remove('colab-df-spinner');\n",
              "          quickchartButtonEl.classList.add('colab-df-quickchart-complete');\n",
              "        }\n",
              "        (() => {\n",
              "          let quickchartButtonEl =\n",
              "            document.querySelector('#df-e83d1df1-42b1-4cf8-9241-495ff9bd697e button');\n",
              "          quickchartButtonEl.style.display =\n",
              "            google.colab.kernel.accessAllowed ? 'block' : 'none';\n",
              "        })();\n",
              "      </script>\n",
              "    </div>\n",
              "\n",
              "  <div id=\"id_61ff0e66-fba2-4cb7-a301-6f9b1dd8f083\">\n",
              "    <style>\n",
              "      .colab-df-generate {\n",
              "        background-color: #E8F0FE;\n",
              "        border: none;\n",
              "        border-radius: 50%;\n",
              "        cursor: pointer;\n",
              "        display: none;\n",
              "        fill: #1967D2;\n",
              "        height: 32px;\n",
              "        padding: 0 0 0 0;\n",
              "        width: 32px;\n",
              "      }\n",
              "\n",
              "      .colab-df-generate:hover {\n",
              "        background-color: #E2EBFA;\n",
              "        box-shadow: 0px 1px 2px rgba(60, 64, 67, 0.3), 0px 1px 3px 1px rgba(60, 64, 67, 0.15);\n",
              "        fill: #174EA6;\n",
              "      }\n",
              "\n",
              "      [theme=dark] .colab-df-generate {\n",
              "        background-color: #3B4455;\n",
              "        fill: #D2E3FC;\n",
              "      }\n",
              "\n",
              "      [theme=dark] .colab-df-generate:hover {\n",
              "        background-color: #434B5C;\n",
              "        box-shadow: 0px 1px 3px 1px rgba(0, 0, 0, 0.15);\n",
              "        filter: drop-shadow(0px 1px 2px rgba(0, 0, 0, 0.3));\n",
              "        fill: #FFFFFF;\n",
              "      }\n",
              "    </style>\n",
              "    <button class=\"colab-df-generate\" onclick=\"generateWithVariable('correlation_matrix')\"\n",
              "            title=\"Generate code using this dataframe.\"\n",
              "            style=\"display:none;\">\n",
              "\n",
              "  <svg xmlns=\"http://www.w3.org/2000/svg\" height=\"24px\"viewBox=\"0 0 24 24\"\n",
              "       width=\"24px\">\n",
              "    <path d=\"M7,19H8.4L18.45,9,17,7.55,7,17.6ZM5,21V16.75L18.45,3.32a2,2,0,0,1,2.83,0l1.4,1.43a1.91,1.91,0,0,1,.58,1.4,1.91,1.91,0,0,1-.58,1.4L9.25,21ZM18.45,9,17,7.55Zm-12,3A5.31,5.31,0,0,0,4.9,8.1,5.31,5.31,0,0,0,1,6.5,5.31,5.31,0,0,0,4.9,4.9,5.31,5.31,0,0,0,6.5,1,5.31,5.31,0,0,0,8.1,4.9,5.31,5.31,0,0,0,12,6.5,5.46,5.46,0,0,0,6.5,12Z\"/>\n",
              "  </svg>\n",
              "    </button>\n",
              "    <script>\n",
              "      (() => {\n",
              "      const buttonEl =\n",
              "        document.querySelector('#id_61ff0e66-fba2-4cb7-a301-6f9b1dd8f083 button.colab-df-generate');\n",
              "      buttonEl.style.display =\n",
              "        google.colab.kernel.accessAllowed ? 'block' : 'none';\n",
              "\n",
              "      buttonEl.onclick = () => {\n",
              "        google.colab.notebook.generateWithVariable('correlation_matrix');\n",
              "      }\n",
              "      })();\n",
              "    </script>\n",
              "  </div>\n",
              "\n",
              "    </div>\n",
              "  </div>\n"
            ],
            "application/vnd.google.colaboratory.intrinsic+json": {
              "type": "dataframe",
              "variable_name": "correlation_matrix",
              "summary": "{\n  \"name\": \"correlation_matrix\",\n  \"rows\": 4,\n  \"fields\": [\n    {\n      \"column\": \"Regional nodes positive\",\n      \"properties\": {\n        \"dtype\": \"number\",\n        \"std\": 0.42364653990391177,\n        \"min\": 0.0603331557614183,\n        \"max\": 1.0,\n        \"num_unique_values\": 4,\n        \"samples\": [\n          0.2525228874221278,\n          0.0603331557614183,\n          1.0\n        ],\n        \"semantic_type\": \"\",\n        \"description\": \"\"\n      }\n    },\n    {\n      \"column\": \"Regional nodes examined\",\n      \"properties\": {\n        \"dtype\": \"number\",\n        \"std\": 0.43657942717359866,\n        \"min\": 0.05506732115441538,\n        \"max\": 1.0,\n        \"num_unique_values\": 4,\n        \"samples\": [\n          1.0,\n          0.05506732115441538,\n          0.2525228874221278\n        ],\n        \"semantic_type\": \"\",\n        \"description\": \"\"\n      }\n    },\n    {\n      \"column\": \"Tumor Size Summary\",\n      \"properties\": {\n        \"dtype\": \"number\",\n        \"std\": 0.4368874837037291,\n        \"min\": 0.08186939134100861,\n        \"max\": 1.0,\n        \"num_unique_values\": 4,\n        \"samples\": [\n          0.11977209111990701,\n          0.08186939134100861,\n          0.19117300346950492\n        ],\n        \"semantic_type\": \"\",\n        \"description\": \"\"\n      }\n    },\n    {\n      \"column\": \"Primary Site\",\n      \"properties\": {\n        \"dtype\": \"number\",\n        \"std\": 0.4672655606193917,\n        \"min\": 0.05506732115441538,\n        \"max\": 1.0,\n        \"num_unique_values\": 4,\n        \"samples\": [\n          0.05506732115441538,\n          1.0,\n          0.0603331557614183\n        ],\n        \"semantic_type\": \"\",\n        \"description\": \"\"\n      }\n    }\n  ]\n}"
            }
          },
          "metadata": {},
          "execution_count": 35
        }
      ]
    },
    {
      "cell_type": "code",
      "source": [
        "'''pca_vars = ['Regional nodes positive', 'Regional nodes examined']\n",
        "df = pca_feature(df, pca_vars)\n",
        "df.drop(columns = pca_vars,inplace = True)'''"
      ],
      "metadata": {
        "id": "WR8CtCkYBz_7",
        "colab": {
          "base_uri": "https://localhost:8080/",
          "height": 35
        },
        "outputId": "b27677e7-54bc-4937-b1b8-b3f8976faa44"
      },
      "execution_count": null,
      "outputs": [
        {
          "output_type": "execute_result",
          "data": {
            "text/plain": [
              "\"pca_vars = ['Regional nodes positive', 'Regional nodes examined']\\ndf = pca_feature(df, pca_vars)\\ndf.drop(columns = pca_vars,inplace = True)\""
            ],
            "application/vnd.google.colaboratory.intrinsic+json": {
              "type": "string"
            }
          },
          "metadata": {},
          "execution_count": 36
        }
      ]
    },
    {
      "cell_type": "markdown",
      "source": [
        "##Comparing Categorical Variables"
      ],
      "metadata": {
        "id": "z1mPk9S1C5Tx"
      }
    },
    {
      "cell_type": "code",
      "source": [
        "#The reasons why I am performing these tests: - Puja\n",
        "#1. Chi square: to test both independence and association\n",
        "#2. Cramers V: to check the strength of association"
      ],
      "metadata": {
        "id": "Ntt7jPKnursa"
      },
      "execution_count": null,
      "outputs": []
    },
    {
      "cell_type": "markdown",
      "source": [
        "###Comparing Grade Clinical and Grade Pathological"
      ],
      "metadata": {
        "id": "lVXqAtANDGiG"
      }
    },
    {
      "cell_type": "code",
      "source": [
        "chi_squared_test(df,'Grade Clinical','Grade Pathological')\n",
        "\n",
        "cramers_v_result = cramers_v(df, 'Grade Clinical', 'Grade Pathological')\n",
        "\n",
        "#Statistically Significant values (p == 0) and moderate association (Cramer's V = 0.3)\n",
        "#However p value might be skewed due to large size of sample\n",
        "#So moderate association\n",
        "# - Puja"
      ],
      "metadata": {
        "colab": {
          "base_uri": "https://localhost:8080/"
        },
        "id": "f8mTV6YtDPro",
        "outputId": "75cf093b-a8bb-4a83-93ed-8dc512752915"
      },
      "execution_count": null,
      "outputs": [
        {
          "output_type": "stream",
          "name": "stdout",
          "text": [
            "Grade Pathological      1      2     3     9   A   B   C  D   H  L   M\n",
            "Grade Clinical                                                        \n",
            "1                   14540   4739   236  1992  15   3   1  0   1  4   7\n",
            "2                     437  21254  3577  7418   3  20   4  0   8  1   7\n",
            "3                      18    176  7363  9405   1   2   9  1   5  0   0\n",
            "9                    1659   1935   831  2211  13  23  16  3  23  3  20\n",
            "A                     429    135    10    68  49   7   0  0   0  1   1\n",
            "B                     192    607   117   228   4  68   9  0   0  0   1\n",
            "C                      10     91   237   441   3   1  47  0   0  0   0\n",
            "D                       0      8    20    60   0   0   0  6   0  0   0\n",
            "H                     167    522   369   221   0   8   2  2  52  0   4\n",
            "L                     157     70     6    25   0   4   0  0   0  6   4\n",
            "M                     309    432    35    92   1   0   0  0   6  0  13\n",
            "Chi^2 test for Grade Clinical and Grade Pathological\n",
            "Chi^2 value:  81705.36204069036\n",
            "P-value:  0.0\n",
            "Cramer's V between Grade Clinical and Grade Pathological: 0.3129363755891204\n"
          ]
        }
      ]
    },
    {
      "cell_type": "markdown",
      "source": [
        "###ER and PR Status\n"
      ],
      "metadata": {
        "id": "7WNwONG_G4ik"
      }
    },
    {
      "cell_type": "code",
      "source": [
        "#ER vs PR Status\n",
        "chi_squared_test(df,'ER Status','PR Status')\n",
        "\n",
        "cramers_v(df, 'ER Status', 'PR Status')\n",
        "\n",
        "#Statistically significant, moderately strong association - Puja"
      ],
      "metadata": {
        "colab": {
          "base_uri": "https://localhost:8080/"
        },
        "id": "ONnEuFpBG3s_",
        "outputId": "08b8c0dd-3b5d-4b5e-8c1d-c08bb033520c"
      },
      "execution_count": null,
      "outputs": [
        {
          "output_type": "stream",
          "name": "stdout",
          "text": [
            "PR Status  Negative  Positive\n",
            "ER Status                    \n",
            "Negative      11362       602\n",
            "Positive       9986     61391\n",
            "Chi^2 test for ER Status and PR Status\n",
            "Chi^2 value:  35259.202279582554\n",
            "P-value:  0.0\n",
            "Cramer's V between ER Status and PR Status: 0.6504341489384995\n"
          ]
        },
        {
          "output_type": "execute_result",
          "data": {
            "text/plain": [
              "np.float64(0.6504341489384995)"
            ]
          },
          "metadata": {},
          "execution_count": 39
        }
      ]
    },
    {
      "cell_type": "code",
      "source": [
        "#PR vs Survived\n",
        "chi_squared_test(df,'PR Status','Survived')\n",
        "\n",
        "cramers_v(df, 'PR Status', 'Survived')"
      ],
      "metadata": {
        "colab": {
          "base_uri": "https://localhost:8080/"
        },
        "id": "BRSNF9gHIX3Z",
        "outputId": "07a17180-bc8a-4386-ae3f-78e7de9c7a1b"
      },
      "execution_count": null,
      "outputs": [
        {
          "output_type": "stream",
          "name": "stdout",
          "text": [
            "Survived       0      1\n",
            "PR Status              \n",
            "Negative    3983  17365\n",
            "Positive   10838  51155\n",
            "Chi^2 test for PR Status and Survived\n",
            "Chi^2 value:  14.911102016714132\n",
            "P-value:  0.00011269780518777282\n",
            "Cramer's V between PR Status and Survived: 0.012919741741149108\n"
          ]
        },
        {
          "output_type": "execute_result",
          "data": {
            "text/plain": [
              "np.float64(0.012919741741149108)"
            ]
          },
          "metadata": {},
          "execution_count": 40
        }
      ]
    },
    {
      "cell_type": "code",
      "source": [
        "#ER vs Survived\n",
        "chi_squared_test(df,'ER Status','Survived')\n",
        "\n",
        "cramers_v(df, 'ER Status', 'Survived')"
      ],
      "metadata": {
        "id": "1uMLQ6dqI1o6",
        "colab": {
          "base_uri": "https://localhost:8080/"
        },
        "outputId": "1510f8c2-ec69-4585-9d3e-2282d23ac46d"
      },
      "execution_count": null,
      "outputs": [
        {
          "output_type": "stream",
          "name": "stdout",
          "text": [
            "Survived       0      1\n",
            "ER Status              \n",
            "Negative    2255   9709\n",
            "Positive   12566  58811\n",
            "Chi^2 test for ER Status and Survived\n",
            "Chi^2 value:  10.744709073541967\n",
            "P-value:  0.0010457787988013552\n",
            "Cramer's V between ER Status and Survived: 0.010813279370755147\n"
          ]
        },
        {
          "output_type": "execute_result",
          "data": {
            "text/plain": [
              "np.float64(0.010813279370755147)"
            ]
          },
          "metadata": {},
          "execution_count": 41
        }
      ]
    },
    {
      "cell_type": "code",
      "source": [
        "#PR HAS A HIGHER Chi2 value and a higher cramers value\n",
        "#Drop PR Status from df - Puja\n",
        "#df.drop(columns =\"ER Status\", inplace = True)"
      ],
      "metadata": {
        "id": "l1kPkWxyJBv0"
      },
      "execution_count": null,
      "outputs": []
    },
    {
      "cell_type": "markdown",
      "source": [
        "#Data Transformation -Encoding\n"
      ],
      "metadata": {
        "id": "_1cEBc6HxOgr"
      }
    },
    {
      "cell_type": "markdown",
      "metadata": {
        "id": "FCtrDUOvVA7Z"
      },
      "source": [
        "###Encoding"
      ]
    },
    {
      "cell_type": "code",
      "execution_count": null,
      "metadata": {
        "id": "LtbWama-bRZI"
      },
      "outputs": [],
      "source": [
        "le_vars = ['Sex',\"Age\",\"Median household income\",'PR Status', 'ER Status','Derived Summary Grade','Grade Clinical','Grade Pathological','Histology recode' ] #\n",
        "oh_vars = ['Laterality', 'Marital status','Radiation','Chemotherapy recode','Race/ethnicity']"
      ]
    },
    {
      "cell_type": "markdown",
      "metadata": {
        "id": "ykIZ_6iTVycA"
      },
      "source": [
        "####Label/One Hot Encoding\n"
      ]
    },
    {
      "cell_type": "code",
      "execution_count": null,
      "metadata": {
        "id": "7LuB_dN-bt1H"
      },
      "outputs": [],
      "source": [
        "from sklearn.preprocessing import LabelEncoder\n",
        "from sklearn.preprocessing import OrdinalEncoder\n",
        "\n",
        "\n",
        "def label_encoding(df, label_vars):\n",
        "    encoders = {}\n",
        "    for var in label_vars:\n",
        "        if var not in df.columns:\n",
        "            raise ValueError(f\"Column '{var}' does not exist in the DataFrame.\")\n",
        "\n",
        "        encoder = LabelEncoder()\n",
        "        df[var] = encoder.fit_transform(df[var])\n",
        "        encoders[var] = encoder\n",
        "    return df, encoders\n",
        "\n",
        "def one_hot_encoding(df, onehot_vars):\n",
        "    encoders = {}\n",
        "    for var in onehot_vars:\n",
        "        if var not in df.columns:\n",
        "            raise ValueError(f\"Column '{var}' does not exist in the DataFrame.\")\n",
        "        one_hot = pd.get_dummies(df[var], prefix=var, drop_first=True)\n",
        "        df = pd.concat([df, one_hot], axis=1)\n",
        "        df.drop(var, axis=1, inplace=True)\n",
        "        encoders[var] = one_hot.columns.tolist()\n",
        "    return df, encoders\n",
        "\n",
        "def ordinal_encoder(df, ordinal_vars):\n",
        "    encoders = {}\n",
        "    for var, categories in ordinal_vars.items():\n",
        "        if var not in df.columns:\n",
        "            raise ValueError(f\"Column '{var}' does not exist in the DataFrame.\")\n",
        "        encoder = OrdinalEncoder(categories=[categories])\n",
        "        df[var] = encoder.fit_transform(df[[var]])\n",
        "        encoders[var] = encoder\n",
        "    return df, encoders\n"
      ]
    },
    {
      "cell_type": "markdown",
      "metadata": {
        "id": "8bVmhj5_t9sL"
      },
      "source": [
        "###Performing the encoding"
      ]
    },
    {
      "cell_type": "code",
      "execution_count": null,
      "metadata": {
        "id": "UeEQO4045Eb3"
      },
      "outputs": [],
      "source": [
        "#initially\n",
        "dfencoded1, encoders = label_encoding(df.copy(), le_vars)\n",
        "dfencoded2, encoders = one_hot_encoding(dfencoded1, oh_vars)"
      ]
    },
    {
      "cell_type": "code",
      "execution_count": null,
      "metadata": {
        "id": "wLhdlmLRei8W"
      },
      "outputs": [],
      "source": [
        "dfencoded = dfencoded2.copy()"
      ]
    },
    {
      "cell_type": "code",
      "execution_count": null,
      "metadata": {
        "colab": {
          "base_uri": "https://localhost:8080/",
          "height": 626
        },
        "id": "QxXt95t3chfD",
        "outputId": "aeb20275-b972-4fe0-af74-bac422fa2bef"
      },
      "outputs": [
        {
          "output_type": "execute_result",
          "data": {
            "text/plain": [
              "       Age  Sex  Year of diagnosis  ER Status  Derived Summary Grade  \\\n",
              "36042    0    0               2018          0                      2   \n",
              "36199    0    0               2019          1                      2   \n",
              "46723    0    0               2018          1                      3   \n",
              "49994    1    0               2018          0                      2   \n",
              "50001    1    0               2018          1                      2   \n",
              "\n",
              "       Grade Clinical  Grade Pathological  Histology recode  \\\n",
              "36042               1                   2                 7   \n",
              "36199               2                   2                 7   \n",
              "46723               3                   3                 7   \n",
              "49994               2                   3                 7   \n",
              "50001               2                   3                 7   \n",
              "\n",
              "       Median household income  Regional nodes positive  PR Status  \\\n",
              "36042                        1                -0.495522          0   \n",
              "36199                        2                -0.521286          1   \n",
              "46723                        5                -0.469758          1   \n",
              "49994                        9                -0.521286          0   \n",
              "50001                        7                -0.340938          1   \n",
              "\n",
              "       Primary Site  Regional nodes examined  Survival months  \\\n",
              "36042      0.444444                -0.231448               43   \n",
              "36199      0.888889                -0.176926               26   \n",
              "46723      0.444444                 0.150206               42   \n",
              "49994      0.444444                -0.122404               46   \n",
              "50001      0.555556                 0.204728               45   \n",
              "\n",
              "                                    Survival months flag  Tumor Size Summary  \\\n",
              "36042  Complete dates are available and there are mor...           -0.197664   \n",
              "36199  Complete dates are available and there are mor...           -0.225953   \n",
              "46723  Complete dates are available and there are mor...            5.341229   \n",
              "49994  Complete dates are available and there are mor...            0.011671   \n",
              "50001  Complete dates are available and there are mor...            0.254952   \n",
              "\n",
              "       Survived  Laterality_Left - origin of primary  \\\n",
              "36042         1                                 True   \n",
              "36199         1                                 True   \n",
              "46723         1                                False   \n",
              "49994         1                                False   \n",
              "50001         1                                False   \n",
              "\n",
              "       Laterality_Right - origin of primary  \\\n",
              "36042                                 False   \n",
              "36199                                 False   \n",
              "46723                                  True   \n",
              "49994                                  True   \n",
              "50001                                  True   \n",
              "\n",
              "       Marital status_Married (including common law)  \\\n",
              "36042                                           True   \n",
              "36199                                          False   \n",
              "46723                                          False   \n",
              "49994                                          False   \n",
              "50001                                          False   \n",
              "\n",
              "       Marital status_Separated  Marital status_Single (never married)  \\\n",
              "36042                     False                                  False   \n",
              "36199                     False                                   True   \n",
              "46723                     False                                   True   \n",
              "49994                     False                                   True   \n",
              "50001                     False                                   True   \n",
              "\n",
              "       Marital status_Unmarried or Domestic Partner  Marital status_Widowed  \\\n",
              "36042                                         False                   False   \n",
              "36199                                         False                   False   \n",
              "46723                                         False                   False   \n",
              "49994                                         False                   False   \n",
              "50001                                         False                   False   \n",
              "\n",
              "       Radiation_Combination of beam with implants or isotopes  \\\n",
              "36042                                              False         \n",
              "36199                                              False         \n",
              "46723                                              False         \n",
              "49994                                              False         \n",
              "50001                                              False         \n",
              "\n",
              "       Radiation_None/Unknown  \\\n",
              "36042                   False   \n",
              "36199                    True   \n",
              "46723                    True   \n",
              "49994                   False   \n",
              "50001                   False   \n",
              "\n",
              "       Radiation_Radioactive implants (includes brachytherapy)  \\\n",
              "36042                                              False         \n",
              "36199                                              False         \n",
              "46723                                              False         \n",
              "49994                                              False         \n",
              "50001                                              False         \n",
              "\n",
              "       Radiation_Radioisotopes  Chemotherapy recode_Yes  Race/ethnicity_Black  \\\n",
              "36042                    False                     True                 False   \n",
              "36199                    False                     True                 False   \n",
              "46723                    False                     True                 False   \n",
              "49994                    False                     True                 False   \n",
              "50001                    False                     True                 False   \n",
              "\n",
              "       Race/ethnicity_Native American  Race/ethnicity_Other  \\\n",
              "36042                           False                 False   \n",
              "36199                           False                 False   \n",
              "46723                            True                 False   \n",
              "49994                           False                  True   \n",
              "50001                           False                 False   \n",
              "\n",
              "       Race/ethnicity_Pacific Islander  Race/ethnicity_White  \n",
              "36042                            False                  True  \n",
              "36199                            False                  True  \n",
              "46723                            False                 False  \n",
              "49994                            False                 False  \n",
              "50001                            False                  True  "
            ],
            "text/html": [
              "\n",
              "  <div id=\"df-3cce63ac-635c-4515-b17c-946768b7ae0a\" class=\"colab-df-container\">\n",
              "    <div>\n",
              "<style scoped>\n",
              "    .dataframe tbody tr th:only-of-type {\n",
              "        vertical-align: middle;\n",
              "    }\n",
              "\n",
              "    .dataframe tbody tr th {\n",
              "        vertical-align: top;\n",
              "    }\n",
              "\n",
              "    .dataframe thead th {\n",
              "        text-align: right;\n",
              "    }\n",
              "</style>\n",
              "<table border=\"1\" class=\"dataframe\">\n",
              "  <thead>\n",
              "    <tr style=\"text-align: right;\">\n",
              "      <th></th>\n",
              "      <th>Age</th>\n",
              "      <th>Sex</th>\n",
              "      <th>Year of diagnosis</th>\n",
              "      <th>ER Status</th>\n",
              "      <th>Derived Summary Grade</th>\n",
              "      <th>Grade Clinical</th>\n",
              "      <th>Grade Pathological</th>\n",
              "      <th>Histology recode</th>\n",
              "      <th>Median household income</th>\n",
              "      <th>Regional nodes positive</th>\n",
              "      <th>PR Status</th>\n",
              "      <th>Primary Site</th>\n",
              "      <th>Regional nodes examined</th>\n",
              "      <th>Survival months</th>\n",
              "      <th>Survival months flag</th>\n",
              "      <th>Tumor Size Summary</th>\n",
              "      <th>Survived</th>\n",
              "      <th>Laterality_Left - origin of primary</th>\n",
              "      <th>Laterality_Right - origin of primary</th>\n",
              "      <th>Marital status_Married (including common law)</th>\n",
              "      <th>Marital status_Separated</th>\n",
              "      <th>Marital status_Single (never married)</th>\n",
              "      <th>Marital status_Unmarried or Domestic Partner</th>\n",
              "      <th>Marital status_Widowed</th>\n",
              "      <th>Radiation_Combination of beam with implants or isotopes</th>\n",
              "      <th>Radiation_None/Unknown</th>\n",
              "      <th>Radiation_Radioactive implants (includes brachytherapy)</th>\n",
              "      <th>Radiation_Radioisotopes</th>\n",
              "      <th>Chemotherapy recode_Yes</th>\n",
              "      <th>Race/ethnicity_Black</th>\n",
              "      <th>Race/ethnicity_Native American</th>\n",
              "      <th>Race/ethnicity_Other</th>\n",
              "      <th>Race/ethnicity_Pacific Islander</th>\n",
              "      <th>Race/ethnicity_White</th>\n",
              "    </tr>\n",
              "  </thead>\n",
              "  <tbody>\n",
              "    <tr>\n",
              "      <th>36042</th>\n",
              "      <td>0</td>\n",
              "      <td>0</td>\n",
              "      <td>2018</td>\n",
              "      <td>0</td>\n",
              "      <td>2</td>\n",
              "      <td>1</td>\n",
              "      <td>2</td>\n",
              "      <td>7</td>\n",
              "      <td>1</td>\n",
              "      <td>-0.495522</td>\n",
              "      <td>0</td>\n",
              "      <td>0.444444</td>\n",
              "      <td>-0.231448</td>\n",
              "      <td>43</td>\n",
              "      <td>Complete dates are available and there are mor...</td>\n",
              "      <td>-0.197664</td>\n",
              "      <td>1</td>\n",
              "      <td>True</td>\n",
              "      <td>False</td>\n",
              "      <td>True</td>\n",
              "      <td>False</td>\n",
              "      <td>False</td>\n",
              "      <td>False</td>\n",
              "      <td>False</td>\n",
              "      <td>False</td>\n",
              "      <td>False</td>\n",
              "      <td>False</td>\n",
              "      <td>False</td>\n",
              "      <td>True</td>\n",
              "      <td>False</td>\n",
              "      <td>False</td>\n",
              "      <td>False</td>\n",
              "      <td>False</td>\n",
              "      <td>True</td>\n",
              "    </tr>\n",
              "    <tr>\n",
              "      <th>36199</th>\n",
              "      <td>0</td>\n",
              "      <td>0</td>\n",
              "      <td>2019</td>\n",
              "      <td>1</td>\n",
              "      <td>2</td>\n",
              "      <td>2</td>\n",
              "      <td>2</td>\n",
              "      <td>7</td>\n",
              "      <td>2</td>\n",
              "      <td>-0.521286</td>\n",
              "      <td>1</td>\n",
              "      <td>0.888889</td>\n",
              "      <td>-0.176926</td>\n",
              "      <td>26</td>\n",
              "      <td>Complete dates are available and there are mor...</td>\n",
              "      <td>-0.225953</td>\n",
              "      <td>1</td>\n",
              "      <td>True</td>\n",
              "      <td>False</td>\n",
              "      <td>False</td>\n",
              "      <td>False</td>\n",
              "      <td>True</td>\n",
              "      <td>False</td>\n",
              "      <td>False</td>\n",
              "      <td>False</td>\n",
              "      <td>True</td>\n",
              "      <td>False</td>\n",
              "      <td>False</td>\n",
              "      <td>True</td>\n",
              "      <td>False</td>\n",
              "      <td>False</td>\n",
              "      <td>False</td>\n",
              "      <td>False</td>\n",
              "      <td>True</td>\n",
              "    </tr>\n",
              "    <tr>\n",
              "      <th>46723</th>\n",
              "      <td>0</td>\n",
              "      <td>0</td>\n",
              "      <td>2018</td>\n",
              "      <td>1</td>\n",
              "      <td>3</td>\n",
              "      <td>3</td>\n",
              "      <td>3</td>\n",
              "      <td>7</td>\n",
              "      <td>5</td>\n",
              "      <td>-0.469758</td>\n",
              "      <td>1</td>\n",
              "      <td>0.444444</td>\n",
              "      <td>0.150206</td>\n",
              "      <td>42</td>\n",
              "      <td>Complete dates are available and there are mor...</td>\n",
              "      <td>5.341229</td>\n",
              "      <td>1</td>\n",
              "      <td>False</td>\n",
              "      <td>True</td>\n",
              "      <td>False</td>\n",
              "      <td>False</td>\n",
              "      <td>True</td>\n",
              "      <td>False</td>\n",
              "      <td>False</td>\n",
              "      <td>False</td>\n",
              "      <td>True</td>\n",
              "      <td>False</td>\n",
              "      <td>False</td>\n",
              "      <td>True</td>\n",
              "      <td>False</td>\n",
              "      <td>True</td>\n",
              "      <td>False</td>\n",
              "      <td>False</td>\n",
              "      <td>False</td>\n",
              "    </tr>\n",
              "    <tr>\n",
              "      <th>49994</th>\n",
              "      <td>1</td>\n",
              "      <td>0</td>\n",
              "      <td>2018</td>\n",
              "      <td>0</td>\n",
              "      <td>2</td>\n",
              "      <td>2</td>\n",
              "      <td>3</td>\n",
              "      <td>7</td>\n",
              "      <td>9</td>\n",
              "      <td>-0.521286</td>\n",
              "      <td>0</td>\n",
              "      <td>0.444444</td>\n",
              "      <td>-0.122404</td>\n",
              "      <td>46</td>\n",
              "      <td>Complete dates are available and there are mor...</td>\n",
              "      <td>0.011671</td>\n",
              "      <td>1</td>\n",
              "      <td>False</td>\n",
              "      <td>True</td>\n",
              "      <td>False</td>\n",
              "      <td>False</td>\n",
              "      <td>True</td>\n",
              "      <td>False</td>\n",
              "      <td>False</td>\n",
              "      <td>False</td>\n",
              "      <td>False</td>\n",
              "      <td>False</td>\n",
              "      <td>False</td>\n",
              "      <td>True</td>\n",
              "      <td>False</td>\n",
              "      <td>False</td>\n",
              "      <td>True</td>\n",
              "      <td>False</td>\n",
              "      <td>False</td>\n",
              "    </tr>\n",
              "    <tr>\n",
              "      <th>50001</th>\n",
              "      <td>1</td>\n",
              "      <td>0</td>\n",
              "      <td>2018</td>\n",
              "      <td>1</td>\n",
              "      <td>2</td>\n",
              "      <td>2</td>\n",
              "      <td>3</td>\n",
              "      <td>7</td>\n",
              "      <td>7</td>\n",
              "      <td>-0.340938</td>\n",
              "      <td>1</td>\n",
              "      <td>0.555556</td>\n",
              "      <td>0.204728</td>\n",
              "      <td>45</td>\n",
              "      <td>Complete dates are available and there are mor...</td>\n",
              "      <td>0.254952</td>\n",
              "      <td>1</td>\n",
              "      <td>False</td>\n",
              "      <td>True</td>\n",
              "      <td>False</td>\n",
              "      <td>False</td>\n",
              "      <td>True</td>\n",
              "      <td>False</td>\n",
              "      <td>False</td>\n",
              "      <td>False</td>\n",
              "      <td>False</td>\n",
              "      <td>False</td>\n",
              "      <td>False</td>\n",
              "      <td>True</td>\n",
              "      <td>False</td>\n",
              "      <td>False</td>\n",
              "      <td>False</td>\n",
              "      <td>False</td>\n",
              "      <td>True</td>\n",
              "    </tr>\n",
              "  </tbody>\n",
              "</table>\n",
              "</div>\n",
              "    <div class=\"colab-df-buttons\">\n",
              "\n",
              "  <div class=\"colab-df-container\">\n",
              "    <button class=\"colab-df-convert\" onclick=\"convertToInteractive('df-3cce63ac-635c-4515-b17c-946768b7ae0a')\"\n",
              "            title=\"Convert this dataframe to an interactive table.\"\n",
              "            style=\"display:none;\">\n",
              "\n",
              "  <svg xmlns=\"http://www.w3.org/2000/svg\" height=\"24px\" viewBox=\"0 -960 960 960\">\n",
              "    <path d=\"M120-120v-720h720v720H120Zm60-500h600v-160H180v160Zm220 220h160v-160H400v160Zm0 220h160v-160H400v160ZM180-400h160v-160H180v160Zm440 0h160v-160H620v160ZM180-180h160v-160H180v160Zm440 0h160v-160H620v160Z\"/>\n",
              "  </svg>\n",
              "    </button>\n",
              "\n",
              "  <style>\n",
              "    .colab-df-container {\n",
              "      display:flex;\n",
              "      gap: 12px;\n",
              "    }\n",
              "\n",
              "    .colab-df-convert {\n",
              "      background-color: #E8F0FE;\n",
              "      border: none;\n",
              "      border-radius: 50%;\n",
              "      cursor: pointer;\n",
              "      display: none;\n",
              "      fill: #1967D2;\n",
              "      height: 32px;\n",
              "      padding: 0 0 0 0;\n",
              "      width: 32px;\n",
              "    }\n",
              "\n",
              "    .colab-df-convert:hover {\n",
              "      background-color: #E2EBFA;\n",
              "      box-shadow: 0px 1px 2px rgba(60, 64, 67, 0.3), 0px 1px 3px 1px rgba(60, 64, 67, 0.15);\n",
              "      fill: #174EA6;\n",
              "    }\n",
              "\n",
              "    .colab-df-buttons div {\n",
              "      margin-bottom: 4px;\n",
              "    }\n",
              "\n",
              "    [theme=dark] .colab-df-convert {\n",
              "      background-color: #3B4455;\n",
              "      fill: #D2E3FC;\n",
              "    }\n",
              "\n",
              "    [theme=dark] .colab-df-convert:hover {\n",
              "      background-color: #434B5C;\n",
              "      box-shadow: 0px 1px 3px 1px rgba(0, 0, 0, 0.15);\n",
              "      filter: drop-shadow(0px 1px 2px rgba(0, 0, 0, 0.3));\n",
              "      fill: #FFFFFF;\n",
              "    }\n",
              "  </style>\n",
              "\n",
              "    <script>\n",
              "      const buttonEl =\n",
              "        document.querySelector('#df-3cce63ac-635c-4515-b17c-946768b7ae0a button.colab-df-convert');\n",
              "      buttonEl.style.display =\n",
              "        google.colab.kernel.accessAllowed ? 'block' : 'none';\n",
              "\n",
              "      async function convertToInteractive(key) {\n",
              "        const element = document.querySelector('#df-3cce63ac-635c-4515-b17c-946768b7ae0a');\n",
              "        const dataTable =\n",
              "          await google.colab.kernel.invokeFunction('convertToInteractive',\n",
              "                                                    [key], {});\n",
              "        if (!dataTable) return;\n",
              "\n",
              "        const docLinkHtml = 'Like what you see? Visit the ' +\n",
              "          '<a target=\"_blank\" href=https://colab.research.google.com/notebooks/data_table.ipynb>data table notebook</a>'\n",
              "          + ' to learn more about interactive tables.';\n",
              "        element.innerHTML = '';\n",
              "        dataTable['output_type'] = 'display_data';\n",
              "        await google.colab.output.renderOutput(dataTable, element);\n",
              "        const docLink = document.createElement('div');\n",
              "        docLink.innerHTML = docLinkHtml;\n",
              "        element.appendChild(docLink);\n",
              "      }\n",
              "    </script>\n",
              "  </div>\n",
              "\n",
              "\n",
              "    <div id=\"df-e5173efc-6524-4a2c-a450-ffeeb32ca10e\">\n",
              "      <button class=\"colab-df-quickchart\" onclick=\"quickchart('df-e5173efc-6524-4a2c-a450-ffeeb32ca10e')\"\n",
              "                title=\"Suggest charts\"\n",
              "                style=\"display:none;\">\n",
              "\n",
              "<svg xmlns=\"http://www.w3.org/2000/svg\" height=\"24px\"viewBox=\"0 0 24 24\"\n",
              "     width=\"24px\">\n",
              "    <g>\n",
              "        <path d=\"M19 3H5c-1.1 0-2 .9-2 2v14c0 1.1.9 2 2 2h14c1.1 0 2-.9 2-2V5c0-1.1-.9-2-2-2zM9 17H7v-7h2v7zm4 0h-2V7h2v10zm4 0h-2v-4h2v4z\"/>\n",
              "    </g>\n",
              "</svg>\n",
              "      </button>\n",
              "\n",
              "<style>\n",
              "  .colab-df-quickchart {\n",
              "      --bg-color: #E8F0FE;\n",
              "      --fill-color: #1967D2;\n",
              "      --hover-bg-color: #E2EBFA;\n",
              "      --hover-fill-color: #174EA6;\n",
              "      --disabled-fill-color: #AAA;\n",
              "      --disabled-bg-color: #DDD;\n",
              "  }\n",
              "\n",
              "  [theme=dark] .colab-df-quickchart {\n",
              "      --bg-color: #3B4455;\n",
              "      --fill-color: #D2E3FC;\n",
              "      --hover-bg-color: #434B5C;\n",
              "      --hover-fill-color: #FFFFFF;\n",
              "      --disabled-bg-color: #3B4455;\n",
              "      --disabled-fill-color: #666;\n",
              "  }\n",
              "\n",
              "  .colab-df-quickchart {\n",
              "    background-color: var(--bg-color);\n",
              "    border: none;\n",
              "    border-radius: 50%;\n",
              "    cursor: pointer;\n",
              "    display: none;\n",
              "    fill: var(--fill-color);\n",
              "    height: 32px;\n",
              "    padding: 0;\n",
              "    width: 32px;\n",
              "  }\n",
              "\n",
              "  .colab-df-quickchart:hover {\n",
              "    background-color: var(--hover-bg-color);\n",
              "    box-shadow: 0 1px 2px rgba(60, 64, 67, 0.3), 0 1px 3px 1px rgba(60, 64, 67, 0.15);\n",
              "    fill: var(--button-hover-fill-color);\n",
              "  }\n",
              "\n",
              "  .colab-df-quickchart-complete:disabled,\n",
              "  .colab-df-quickchart-complete:disabled:hover {\n",
              "    background-color: var(--disabled-bg-color);\n",
              "    fill: var(--disabled-fill-color);\n",
              "    box-shadow: none;\n",
              "  }\n",
              "\n",
              "  .colab-df-spinner {\n",
              "    border: 2px solid var(--fill-color);\n",
              "    border-color: transparent;\n",
              "    border-bottom-color: var(--fill-color);\n",
              "    animation:\n",
              "      spin 1s steps(1) infinite;\n",
              "  }\n",
              "\n",
              "  @keyframes spin {\n",
              "    0% {\n",
              "      border-color: transparent;\n",
              "      border-bottom-color: var(--fill-color);\n",
              "      border-left-color: var(--fill-color);\n",
              "    }\n",
              "    20% {\n",
              "      border-color: transparent;\n",
              "      border-left-color: var(--fill-color);\n",
              "      border-top-color: var(--fill-color);\n",
              "    }\n",
              "    30% {\n",
              "      border-color: transparent;\n",
              "      border-left-color: var(--fill-color);\n",
              "      border-top-color: var(--fill-color);\n",
              "      border-right-color: var(--fill-color);\n",
              "    }\n",
              "    40% {\n",
              "      border-color: transparent;\n",
              "      border-right-color: var(--fill-color);\n",
              "      border-top-color: var(--fill-color);\n",
              "    }\n",
              "    60% {\n",
              "      border-color: transparent;\n",
              "      border-right-color: var(--fill-color);\n",
              "    }\n",
              "    80% {\n",
              "      border-color: transparent;\n",
              "      border-right-color: var(--fill-color);\n",
              "      border-bottom-color: var(--fill-color);\n",
              "    }\n",
              "    90% {\n",
              "      border-color: transparent;\n",
              "      border-bottom-color: var(--fill-color);\n",
              "    }\n",
              "  }\n",
              "</style>\n",
              "\n",
              "      <script>\n",
              "        async function quickchart(key) {\n",
              "          const quickchartButtonEl =\n",
              "            document.querySelector('#' + key + ' button');\n",
              "          quickchartButtonEl.disabled = true;  // To prevent multiple clicks.\n",
              "          quickchartButtonEl.classList.add('colab-df-spinner');\n",
              "          try {\n",
              "            const charts = await google.colab.kernel.invokeFunction(\n",
              "                'suggestCharts', [key], {});\n",
              "          } catch (error) {\n",
              "            console.error('Error during call to suggestCharts:', error);\n",
              "          }\n",
              "          quickchartButtonEl.classList.remove('colab-df-spinner');\n",
              "          quickchartButtonEl.classList.add('colab-df-quickchart-complete');\n",
              "        }\n",
              "        (() => {\n",
              "          let quickchartButtonEl =\n",
              "            document.querySelector('#df-e5173efc-6524-4a2c-a450-ffeeb32ca10e button');\n",
              "          quickchartButtonEl.style.display =\n",
              "            google.colab.kernel.accessAllowed ? 'block' : 'none';\n",
              "        })();\n",
              "      </script>\n",
              "    </div>\n",
              "\n",
              "    </div>\n",
              "  </div>\n"
            ],
            "application/vnd.google.colaboratory.intrinsic+json": {
              "type": "dataframe",
              "variable_name": "dfencoded"
            }
          },
          "metadata": {},
          "execution_count": 47
        }
      ],
      "source": [
        "pd.set_option('display.max_columns', None)\n",
        "dfencoded.head(5)"
      ]
    },
    {
      "cell_type": "markdown",
      "source": [
        "#Rearranging the Column to put survived at the end"
      ],
      "metadata": {
        "id": "4vyc6sG0pDSj"
      }
    },
    {
      "cell_type": "code",
      "source": [
        "pd.set_option('display.max_columns', None)\n",
        "dfencoded.head(5)"
      ],
      "metadata": {
        "colab": {
          "base_uri": "https://localhost:8080/",
          "height": 626
        },
        "id": "bYi8ZJid7CfM",
        "outputId": "acca307b-06f8-44d9-9f08-71e32bef1088"
      },
      "execution_count": null,
      "outputs": [
        {
          "output_type": "execute_result",
          "data": {
            "text/plain": [
              "       Age  Sex  Year of diagnosis  ER Status  Derived Summary Grade  \\\n",
              "36042    0    0               2018          0                      2   \n",
              "36199    0    0               2019          1                      2   \n",
              "46723    0    0               2018          1                      3   \n",
              "49994    1    0               2018          0                      2   \n",
              "50001    1    0               2018          1                      2   \n",
              "\n",
              "       Grade Clinical  Grade Pathological  Histology recode  \\\n",
              "36042               1                   2                 7   \n",
              "36199               2                   2                 7   \n",
              "46723               3                   3                 7   \n",
              "49994               2                   3                 7   \n",
              "50001               2                   3                 7   \n",
              "\n",
              "       Median household income  Regional nodes positive  PR Status  \\\n",
              "36042                        1                -0.495522          0   \n",
              "36199                        2                -0.521286          1   \n",
              "46723                        5                -0.469758          1   \n",
              "49994                        9                -0.521286          0   \n",
              "50001                        7                -0.340938          1   \n",
              "\n",
              "       Primary Site  Regional nodes examined  Survival months  \\\n",
              "36042      0.444444                -0.231448               43   \n",
              "36199      0.888889                -0.176926               26   \n",
              "46723      0.444444                 0.150206               42   \n",
              "49994      0.444444                -0.122404               46   \n",
              "50001      0.555556                 0.204728               45   \n",
              "\n",
              "                                    Survival months flag  Tumor Size Summary  \\\n",
              "36042  Complete dates are available and there are mor...           -0.197664   \n",
              "36199  Complete dates are available and there are mor...           -0.225953   \n",
              "46723  Complete dates are available and there are mor...            5.341229   \n",
              "49994  Complete dates are available and there are mor...            0.011671   \n",
              "50001  Complete dates are available and there are mor...            0.254952   \n",
              "\n",
              "       Survived  Laterality_Left - origin of primary  \\\n",
              "36042         1                                 True   \n",
              "36199         1                                 True   \n",
              "46723         1                                False   \n",
              "49994         1                                False   \n",
              "50001         1                                False   \n",
              "\n",
              "       Laterality_Right - origin of primary  \\\n",
              "36042                                 False   \n",
              "36199                                 False   \n",
              "46723                                  True   \n",
              "49994                                  True   \n",
              "50001                                  True   \n",
              "\n",
              "       Marital status_Married (including common law)  \\\n",
              "36042                                           True   \n",
              "36199                                          False   \n",
              "46723                                          False   \n",
              "49994                                          False   \n",
              "50001                                          False   \n",
              "\n",
              "       Marital status_Separated  Marital status_Single (never married)  \\\n",
              "36042                     False                                  False   \n",
              "36199                     False                                   True   \n",
              "46723                     False                                   True   \n",
              "49994                     False                                   True   \n",
              "50001                     False                                   True   \n",
              "\n",
              "       Marital status_Unmarried or Domestic Partner  Marital status_Widowed  \\\n",
              "36042                                         False                   False   \n",
              "36199                                         False                   False   \n",
              "46723                                         False                   False   \n",
              "49994                                         False                   False   \n",
              "50001                                         False                   False   \n",
              "\n",
              "       Radiation_Combination of beam with implants or isotopes  \\\n",
              "36042                                              False         \n",
              "36199                                              False         \n",
              "46723                                              False         \n",
              "49994                                              False         \n",
              "50001                                              False         \n",
              "\n",
              "       Radiation_None/Unknown  \\\n",
              "36042                   False   \n",
              "36199                    True   \n",
              "46723                    True   \n",
              "49994                   False   \n",
              "50001                   False   \n",
              "\n",
              "       Radiation_Radioactive implants (includes brachytherapy)  \\\n",
              "36042                                              False         \n",
              "36199                                              False         \n",
              "46723                                              False         \n",
              "49994                                              False         \n",
              "50001                                              False         \n",
              "\n",
              "       Radiation_Radioisotopes  Chemotherapy recode_Yes  Race/ethnicity_Black  \\\n",
              "36042                    False                     True                 False   \n",
              "36199                    False                     True                 False   \n",
              "46723                    False                     True                 False   \n",
              "49994                    False                     True                 False   \n",
              "50001                    False                     True                 False   \n",
              "\n",
              "       Race/ethnicity_Native American  Race/ethnicity_Other  \\\n",
              "36042                           False                 False   \n",
              "36199                           False                 False   \n",
              "46723                            True                 False   \n",
              "49994                           False                  True   \n",
              "50001                           False                 False   \n",
              "\n",
              "       Race/ethnicity_Pacific Islander  Race/ethnicity_White  \n",
              "36042                            False                  True  \n",
              "36199                            False                  True  \n",
              "46723                            False                 False  \n",
              "49994                            False                 False  \n",
              "50001                            False                  True  "
            ],
            "text/html": [
              "\n",
              "  <div id=\"df-02c2699a-39e4-40d8-8a8a-c9adeb27d7a4\" class=\"colab-df-container\">\n",
              "    <div>\n",
              "<style scoped>\n",
              "    .dataframe tbody tr th:only-of-type {\n",
              "        vertical-align: middle;\n",
              "    }\n",
              "\n",
              "    .dataframe tbody tr th {\n",
              "        vertical-align: top;\n",
              "    }\n",
              "\n",
              "    .dataframe thead th {\n",
              "        text-align: right;\n",
              "    }\n",
              "</style>\n",
              "<table border=\"1\" class=\"dataframe\">\n",
              "  <thead>\n",
              "    <tr style=\"text-align: right;\">\n",
              "      <th></th>\n",
              "      <th>Age</th>\n",
              "      <th>Sex</th>\n",
              "      <th>Year of diagnosis</th>\n",
              "      <th>ER Status</th>\n",
              "      <th>Derived Summary Grade</th>\n",
              "      <th>Grade Clinical</th>\n",
              "      <th>Grade Pathological</th>\n",
              "      <th>Histology recode</th>\n",
              "      <th>Median household income</th>\n",
              "      <th>Regional nodes positive</th>\n",
              "      <th>PR Status</th>\n",
              "      <th>Primary Site</th>\n",
              "      <th>Regional nodes examined</th>\n",
              "      <th>Survival months</th>\n",
              "      <th>Survival months flag</th>\n",
              "      <th>Tumor Size Summary</th>\n",
              "      <th>Survived</th>\n",
              "      <th>Laterality_Left - origin of primary</th>\n",
              "      <th>Laterality_Right - origin of primary</th>\n",
              "      <th>Marital status_Married (including common law)</th>\n",
              "      <th>Marital status_Separated</th>\n",
              "      <th>Marital status_Single (never married)</th>\n",
              "      <th>Marital status_Unmarried or Domestic Partner</th>\n",
              "      <th>Marital status_Widowed</th>\n",
              "      <th>Radiation_Combination of beam with implants or isotopes</th>\n",
              "      <th>Radiation_None/Unknown</th>\n",
              "      <th>Radiation_Radioactive implants (includes brachytherapy)</th>\n",
              "      <th>Radiation_Radioisotopes</th>\n",
              "      <th>Chemotherapy recode_Yes</th>\n",
              "      <th>Race/ethnicity_Black</th>\n",
              "      <th>Race/ethnicity_Native American</th>\n",
              "      <th>Race/ethnicity_Other</th>\n",
              "      <th>Race/ethnicity_Pacific Islander</th>\n",
              "      <th>Race/ethnicity_White</th>\n",
              "    </tr>\n",
              "  </thead>\n",
              "  <tbody>\n",
              "    <tr>\n",
              "      <th>36042</th>\n",
              "      <td>0</td>\n",
              "      <td>0</td>\n",
              "      <td>2018</td>\n",
              "      <td>0</td>\n",
              "      <td>2</td>\n",
              "      <td>1</td>\n",
              "      <td>2</td>\n",
              "      <td>7</td>\n",
              "      <td>1</td>\n",
              "      <td>-0.495522</td>\n",
              "      <td>0</td>\n",
              "      <td>0.444444</td>\n",
              "      <td>-0.231448</td>\n",
              "      <td>43</td>\n",
              "      <td>Complete dates are available and there are mor...</td>\n",
              "      <td>-0.197664</td>\n",
              "      <td>1</td>\n",
              "      <td>True</td>\n",
              "      <td>False</td>\n",
              "      <td>True</td>\n",
              "      <td>False</td>\n",
              "      <td>False</td>\n",
              "      <td>False</td>\n",
              "      <td>False</td>\n",
              "      <td>False</td>\n",
              "      <td>False</td>\n",
              "      <td>False</td>\n",
              "      <td>False</td>\n",
              "      <td>True</td>\n",
              "      <td>False</td>\n",
              "      <td>False</td>\n",
              "      <td>False</td>\n",
              "      <td>False</td>\n",
              "      <td>True</td>\n",
              "    </tr>\n",
              "    <tr>\n",
              "      <th>36199</th>\n",
              "      <td>0</td>\n",
              "      <td>0</td>\n",
              "      <td>2019</td>\n",
              "      <td>1</td>\n",
              "      <td>2</td>\n",
              "      <td>2</td>\n",
              "      <td>2</td>\n",
              "      <td>7</td>\n",
              "      <td>2</td>\n",
              "      <td>-0.521286</td>\n",
              "      <td>1</td>\n",
              "      <td>0.888889</td>\n",
              "      <td>-0.176926</td>\n",
              "      <td>26</td>\n",
              "      <td>Complete dates are available and there are mor...</td>\n",
              "      <td>-0.225953</td>\n",
              "      <td>1</td>\n",
              "      <td>True</td>\n",
              "      <td>False</td>\n",
              "      <td>False</td>\n",
              "      <td>False</td>\n",
              "      <td>True</td>\n",
              "      <td>False</td>\n",
              "      <td>False</td>\n",
              "      <td>False</td>\n",
              "      <td>True</td>\n",
              "      <td>False</td>\n",
              "      <td>False</td>\n",
              "      <td>True</td>\n",
              "      <td>False</td>\n",
              "      <td>False</td>\n",
              "      <td>False</td>\n",
              "      <td>False</td>\n",
              "      <td>True</td>\n",
              "    </tr>\n",
              "    <tr>\n",
              "      <th>46723</th>\n",
              "      <td>0</td>\n",
              "      <td>0</td>\n",
              "      <td>2018</td>\n",
              "      <td>1</td>\n",
              "      <td>3</td>\n",
              "      <td>3</td>\n",
              "      <td>3</td>\n",
              "      <td>7</td>\n",
              "      <td>5</td>\n",
              "      <td>-0.469758</td>\n",
              "      <td>1</td>\n",
              "      <td>0.444444</td>\n",
              "      <td>0.150206</td>\n",
              "      <td>42</td>\n",
              "      <td>Complete dates are available and there are mor...</td>\n",
              "      <td>5.341229</td>\n",
              "      <td>1</td>\n",
              "      <td>False</td>\n",
              "      <td>True</td>\n",
              "      <td>False</td>\n",
              "      <td>False</td>\n",
              "      <td>True</td>\n",
              "      <td>False</td>\n",
              "      <td>False</td>\n",
              "      <td>False</td>\n",
              "      <td>True</td>\n",
              "      <td>False</td>\n",
              "      <td>False</td>\n",
              "      <td>True</td>\n",
              "      <td>False</td>\n",
              "      <td>True</td>\n",
              "      <td>False</td>\n",
              "      <td>False</td>\n",
              "      <td>False</td>\n",
              "    </tr>\n",
              "    <tr>\n",
              "      <th>49994</th>\n",
              "      <td>1</td>\n",
              "      <td>0</td>\n",
              "      <td>2018</td>\n",
              "      <td>0</td>\n",
              "      <td>2</td>\n",
              "      <td>2</td>\n",
              "      <td>3</td>\n",
              "      <td>7</td>\n",
              "      <td>9</td>\n",
              "      <td>-0.521286</td>\n",
              "      <td>0</td>\n",
              "      <td>0.444444</td>\n",
              "      <td>-0.122404</td>\n",
              "      <td>46</td>\n",
              "      <td>Complete dates are available and there are mor...</td>\n",
              "      <td>0.011671</td>\n",
              "      <td>1</td>\n",
              "      <td>False</td>\n",
              "      <td>True</td>\n",
              "      <td>False</td>\n",
              "      <td>False</td>\n",
              "      <td>True</td>\n",
              "      <td>False</td>\n",
              "      <td>False</td>\n",
              "      <td>False</td>\n",
              "      <td>False</td>\n",
              "      <td>False</td>\n",
              "      <td>False</td>\n",
              "      <td>True</td>\n",
              "      <td>False</td>\n",
              "      <td>False</td>\n",
              "      <td>True</td>\n",
              "      <td>False</td>\n",
              "      <td>False</td>\n",
              "    </tr>\n",
              "    <tr>\n",
              "      <th>50001</th>\n",
              "      <td>1</td>\n",
              "      <td>0</td>\n",
              "      <td>2018</td>\n",
              "      <td>1</td>\n",
              "      <td>2</td>\n",
              "      <td>2</td>\n",
              "      <td>3</td>\n",
              "      <td>7</td>\n",
              "      <td>7</td>\n",
              "      <td>-0.340938</td>\n",
              "      <td>1</td>\n",
              "      <td>0.555556</td>\n",
              "      <td>0.204728</td>\n",
              "      <td>45</td>\n",
              "      <td>Complete dates are available and there are mor...</td>\n",
              "      <td>0.254952</td>\n",
              "      <td>1</td>\n",
              "      <td>False</td>\n",
              "      <td>True</td>\n",
              "      <td>False</td>\n",
              "      <td>False</td>\n",
              "      <td>True</td>\n",
              "      <td>False</td>\n",
              "      <td>False</td>\n",
              "      <td>False</td>\n",
              "      <td>False</td>\n",
              "      <td>False</td>\n",
              "      <td>False</td>\n",
              "      <td>True</td>\n",
              "      <td>False</td>\n",
              "      <td>False</td>\n",
              "      <td>False</td>\n",
              "      <td>False</td>\n",
              "      <td>True</td>\n",
              "    </tr>\n",
              "  </tbody>\n",
              "</table>\n",
              "</div>\n",
              "    <div class=\"colab-df-buttons\">\n",
              "\n",
              "  <div class=\"colab-df-container\">\n",
              "    <button class=\"colab-df-convert\" onclick=\"convertToInteractive('df-02c2699a-39e4-40d8-8a8a-c9adeb27d7a4')\"\n",
              "            title=\"Convert this dataframe to an interactive table.\"\n",
              "            style=\"display:none;\">\n",
              "\n",
              "  <svg xmlns=\"http://www.w3.org/2000/svg\" height=\"24px\" viewBox=\"0 -960 960 960\">\n",
              "    <path d=\"M120-120v-720h720v720H120Zm60-500h600v-160H180v160Zm220 220h160v-160H400v160Zm0 220h160v-160H400v160ZM180-400h160v-160H180v160Zm440 0h160v-160H620v160ZM180-180h160v-160H180v160Zm440 0h160v-160H620v160Z\"/>\n",
              "  </svg>\n",
              "    </button>\n",
              "\n",
              "  <style>\n",
              "    .colab-df-container {\n",
              "      display:flex;\n",
              "      gap: 12px;\n",
              "    }\n",
              "\n",
              "    .colab-df-convert {\n",
              "      background-color: #E8F0FE;\n",
              "      border: none;\n",
              "      border-radius: 50%;\n",
              "      cursor: pointer;\n",
              "      display: none;\n",
              "      fill: #1967D2;\n",
              "      height: 32px;\n",
              "      padding: 0 0 0 0;\n",
              "      width: 32px;\n",
              "    }\n",
              "\n",
              "    .colab-df-convert:hover {\n",
              "      background-color: #E2EBFA;\n",
              "      box-shadow: 0px 1px 2px rgba(60, 64, 67, 0.3), 0px 1px 3px 1px rgba(60, 64, 67, 0.15);\n",
              "      fill: #174EA6;\n",
              "    }\n",
              "\n",
              "    .colab-df-buttons div {\n",
              "      margin-bottom: 4px;\n",
              "    }\n",
              "\n",
              "    [theme=dark] .colab-df-convert {\n",
              "      background-color: #3B4455;\n",
              "      fill: #D2E3FC;\n",
              "    }\n",
              "\n",
              "    [theme=dark] .colab-df-convert:hover {\n",
              "      background-color: #434B5C;\n",
              "      box-shadow: 0px 1px 3px 1px rgba(0, 0, 0, 0.15);\n",
              "      filter: drop-shadow(0px 1px 2px rgba(0, 0, 0, 0.3));\n",
              "      fill: #FFFFFF;\n",
              "    }\n",
              "  </style>\n",
              "\n",
              "    <script>\n",
              "      const buttonEl =\n",
              "        document.querySelector('#df-02c2699a-39e4-40d8-8a8a-c9adeb27d7a4 button.colab-df-convert');\n",
              "      buttonEl.style.display =\n",
              "        google.colab.kernel.accessAllowed ? 'block' : 'none';\n",
              "\n",
              "      async function convertToInteractive(key) {\n",
              "        const element = document.querySelector('#df-02c2699a-39e4-40d8-8a8a-c9adeb27d7a4');\n",
              "        const dataTable =\n",
              "          await google.colab.kernel.invokeFunction('convertToInteractive',\n",
              "                                                    [key], {});\n",
              "        if (!dataTable) return;\n",
              "\n",
              "        const docLinkHtml = 'Like what you see? Visit the ' +\n",
              "          '<a target=\"_blank\" href=https://colab.research.google.com/notebooks/data_table.ipynb>data table notebook</a>'\n",
              "          + ' to learn more about interactive tables.';\n",
              "        element.innerHTML = '';\n",
              "        dataTable['output_type'] = 'display_data';\n",
              "        await google.colab.output.renderOutput(dataTable, element);\n",
              "        const docLink = document.createElement('div');\n",
              "        docLink.innerHTML = docLinkHtml;\n",
              "        element.appendChild(docLink);\n",
              "      }\n",
              "    </script>\n",
              "  </div>\n",
              "\n",
              "\n",
              "    <div id=\"df-455c060c-abb0-40f1-a4e6-ecb0132477f1\">\n",
              "      <button class=\"colab-df-quickchart\" onclick=\"quickchart('df-455c060c-abb0-40f1-a4e6-ecb0132477f1')\"\n",
              "                title=\"Suggest charts\"\n",
              "                style=\"display:none;\">\n",
              "\n",
              "<svg xmlns=\"http://www.w3.org/2000/svg\" height=\"24px\"viewBox=\"0 0 24 24\"\n",
              "     width=\"24px\">\n",
              "    <g>\n",
              "        <path d=\"M19 3H5c-1.1 0-2 .9-2 2v14c0 1.1.9 2 2 2h14c1.1 0 2-.9 2-2V5c0-1.1-.9-2-2-2zM9 17H7v-7h2v7zm4 0h-2V7h2v10zm4 0h-2v-4h2v4z\"/>\n",
              "    </g>\n",
              "</svg>\n",
              "      </button>\n",
              "\n",
              "<style>\n",
              "  .colab-df-quickchart {\n",
              "      --bg-color: #E8F0FE;\n",
              "      --fill-color: #1967D2;\n",
              "      --hover-bg-color: #E2EBFA;\n",
              "      --hover-fill-color: #174EA6;\n",
              "      --disabled-fill-color: #AAA;\n",
              "      --disabled-bg-color: #DDD;\n",
              "  }\n",
              "\n",
              "  [theme=dark] .colab-df-quickchart {\n",
              "      --bg-color: #3B4455;\n",
              "      --fill-color: #D2E3FC;\n",
              "      --hover-bg-color: #434B5C;\n",
              "      --hover-fill-color: #FFFFFF;\n",
              "      --disabled-bg-color: #3B4455;\n",
              "      --disabled-fill-color: #666;\n",
              "  }\n",
              "\n",
              "  .colab-df-quickchart {\n",
              "    background-color: var(--bg-color);\n",
              "    border: none;\n",
              "    border-radius: 50%;\n",
              "    cursor: pointer;\n",
              "    display: none;\n",
              "    fill: var(--fill-color);\n",
              "    height: 32px;\n",
              "    padding: 0;\n",
              "    width: 32px;\n",
              "  }\n",
              "\n",
              "  .colab-df-quickchart:hover {\n",
              "    background-color: var(--hover-bg-color);\n",
              "    box-shadow: 0 1px 2px rgba(60, 64, 67, 0.3), 0 1px 3px 1px rgba(60, 64, 67, 0.15);\n",
              "    fill: var(--button-hover-fill-color);\n",
              "  }\n",
              "\n",
              "  .colab-df-quickchart-complete:disabled,\n",
              "  .colab-df-quickchart-complete:disabled:hover {\n",
              "    background-color: var(--disabled-bg-color);\n",
              "    fill: var(--disabled-fill-color);\n",
              "    box-shadow: none;\n",
              "  }\n",
              "\n",
              "  .colab-df-spinner {\n",
              "    border: 2px solid var(--fill-color);\n",
              "    border-color: transparent;\n",
              "    border-bottom-color: var(--fill-color);\n",
              "    animation:\n",
              "      spin 1s steps(1) infinite;\n",
              "  }\n",
              "\n",
              "  @keyframes spin {\n",
              "    0% {\n",
              "      border-color: transparent;\n",
              "      border-bottom-color: var(--fill-color);\n",
              "      border-left-color: var(--fill-color);\n",
              "    }\n",
              "    20% {\n",
              "      border-color: transparent;\n",
              "      border-left-color: var(--fill-color);\n",
              "      border-top-color: var(--fill-color);\n",
              "    }\n",
              "    30% {\n",
              "      border-color: transparent;\n",
              "      border-left-color: var(--fill-color);\n",
              "      border-top-color: var(--fill-color);\n",
              "      border-right-color: var(--fill-color);\n",
              "    }\n",
              "    40% {\n",
              "      border-color: transparent;\n",
              "      border-right-color: var(--fill-color);\n",
              "      border-top-color: var(--fill-color);\n",
              "    }\n",
              "    60% {\n",
              "      border-color: transparent;\n",
              "      border-right-color: var(--fill-color);\n",
              "    }\n",
              "    80% {\n",
              "      border-color: transparent;\n",
              "      border-right-color: var(--fill-color);\n",
              "      border-bottom-color: var(--fill-color);\n",
              "    }\n",
              "    90% {\n",
              "      border-color: transparent;\n",
              "      border-bottom-color: var(--fill-color);\n",
              "    }\n",
              "  }\n",
              "</style>\n",
              "\n",
              "      <script>\n",
              "        async function quickchart(key) {\n",
              "          const quickchartButtonEl =\n",
              "            document.querySelector('#' + key + ' button');\n",
              "          quickchartButtonEl.disabled = true;  // To prevent multiple clicks.\n",
              "          quickchartButtonEl.classList.add('colab-df-spinner');\n",
              "          try {\n",
              "            const charts = await google.colab.kernel.invokeFunction(\n",
              "                'suggestCharts', [key], {});\n",
              "          } catch (error) {\n",
              "            console.error('Error during call to suggestCharts:', error);\n",
              "          }\n",
              "          quickchartButtonEl.classList.remove('colab-df-spinner');\n",
              "          quickchartButtonEl.classList.add('colab-df-quickchart-complete');\n",
              "        }\n",
              "        (() => {\n",
              "          let quickchartButtonEl =\n",
              "            document.querySelector('#df-455c060c-abb0-40f1-a4e6-ecb0132477f1 button');\n",
              "          quickchartButtonEl.style.display =\n",
              "            google.colab.kernel.accessAllowed ? 'block' : 'none';\n",
              "        })();\n",
              "      </script>\n",
              "    </div>\n",
              "\n",
              "    </div>\n",
              "  </div>\n"
            ],
            "application/vnd.google.colaboratory.intrinsic+json": {
              "type": "dataframe",
              "variable_name": "dfencoded"
            }
          },
          "metadata": {},
          "execution_count": 48
        }
      ]
    },
    {
      "cell_type": "code",
      "source": [
        "c = list(df.columns)\n",
        "c.remove(\"Survived\")\n",
        "c.append(\"Survived\")\n",
        "df = df[c]"
      ],
      "metadata": {
        "id": "21a82dB7YfOb"
      },
      "execution_count": null,
      "outputs": []
    },
    {
      "cell_type": "code",
      "source": [
        "c"
      ],
      "metadata": {
        "colab": {
          "base_uri": "https://localhost:8080/"
        },
        "id": "mtz67plW_sOH",
        "outputId": "f198eee2-77da-4396-af23-e2a02391ff49"
      },
      "execution_count": null,
      "outputs": [
        {
          "output_type": "execute_result",
          "data": {
            "text/plain": [
              "['Age',\n",
              " 'Sex',\n",
              " 'Race/ethnicity',\n",
              " 'Year of diagnosis',\n",
              " 'Chemotherapy recode',\n",
              " 'ER Status',\n",
              " 'Derived Summary Grade',\n",
              " 'Grade Clinical',\n",
              " 'Grade Pathological',\n",
              " 'Histology recode',\n",
              " 'Laterality',\n",
              " 'Marital status',\n",
              " 'Median household income',\n",
              " 'Regional nodes positive',\n",
              " 'PR Status',\n",
              " 'Primary Site',\n",
              " 'Radiation',\n",
              " 'Regional nodes examined',\n",
              " 'Survival months',\n",
              " 'Survival months flag',\n",
              " 'Tumor Size Summary',\n",
              " 'Survived']"
            ]
          },
          "metadata": {},
          "execution_count": 50
        }
      ]
    },
    {
      "cell_type": "code",
      "source": [
        "#exporting to csv\n",
        "# df.to_csv('df_transformed.csv', index=False)\n",
        "dfencoded.to_csv('dfencoded_rsf.csv', index=False)"
      ],
      "metadata": {
        "id": "VknbDb2_xF9n"
      },
      "execution_count": null,
      "outputs": []
    },
    {
      "cell_type": "code",
      "source": [
        "# df.dropna(inplace=True)\n",
        "dfencoded.dropna(inplace=True)"
      ],
      "metadata": {
        "id": "sPuXKuIDu0h5"
      },
      "execution_count": null,
      "outputs": []
    },
    {
      "cell_type": "code",
      "source": [
        "from google.colab import files\n",
        "# files.download('df_transformed.csv')\n",
        "files.download('dfencoded_rsf.csv')"
      ],
      "metadata": {
        "colab": {
          "base_uri": "https://localhost:8080/",
          "height": 34
        },
        "id": "7o4ISI2xxhqr",
        "outputId": "9926c6bd-a3aa-4909-c8f3-71e9404f2f7d"
      },
      "execution_count": null,
      "outputs": [
        {
          "output_type": "display_data",
          "data": {
            "text/plain": [
              "<IPython.core.display.Javascript object>"
            ],
            "application/javascript": [
              "\n",
              "    async function download(id, filename, size) {\n",
              "      if (!google.colab.kernel.accessAllowed) {\n",
              "        return;\n",
              "      }\n",
              "      const div = document.createElement('div');\n",
              "      const label = document.createElement('label');\n",
              "      label.textContent = `Downloading \"${filename}\": `;\n",
              "      div.appendChild(label);\n",
              "      const progress = document.createElement('progress');\n",
              "      progress.max = size;\n",
              "      div.appendChild(progress);\n",
              "      document.body.appendChild(div);\n",
              "\n",
              "      const buffers = [];\n",
              "      let downloaded = 0;\n",
              "\n",
              "      const channel = await google.colab.kernel.comms.open(id);\n",
              "      // Send a message to notify the kernel that we're ready.\n",
              "      channel.send({})\n",
              "\n",
              "      for await (const message of channel.messages) {\n",
              "        // Send a message to notify the kernel that we're ready.\n",
              "        channel.send({})\n",
              "        if (message.buffers) {\n",
              "          for (const buffer of message.buffers) {\n",
              "            buffers.push(buffer);\n",
              "            downloaded += buffer.byteLength;\n",
              "            progress.value = downloaded;\n",
              "          }\n",
              "        }\n",
              "      }\n",
              "      const blob = new Blob(buffers, {type: 'application/binary'});\n",
              "      const a = document.createElement('a');\n",
              "      a.href = window.URL.createObjectURL(blob);\n",
              "      a.download = filename;\n",
              "      div.appendChild(a);\n",
              "      a.click();\n",
              "      div.remove();\n",
              "    }\n",
              "  "
            ]
          },
          "metadata": {}
        },
        {
          "output_type": "display_data",
          "data": {
            "text/plain": [
              "<IPython.core.display.Javascript object>"
            ],
            "application/javascript": [
              "download(\"download_81032539-7362-46fd-9205-eaa0fc999d1c\", \"dfencoded_rsf.csv\", 23116386)"
            ]
          },
          "metadata": {}
        }
      ]
    }
  ],
  "metadata": {
    "colab": {
      "collapsed_sections": [
        "7WNwONG_G4ik"
      ],
      "provenance": [],
      "mount_file_id": "1rw7d5vNtiOsf2q5DLAwpfP-cLx2amm73",
      "authorship_tag": "ABX9TyNxHB2xtu2fOT2xHjQzmWlp",
      "include_colab_link": true
    },
    "kernelspec": {
      "display_name": "Python 3",
      "name": "python3"
    },
    "language_info": {
      "name": "python"
    }
  },
  "nbformat": 4,
  "nbformat_minor": 0
}